{
  "nbformat": 4,
  "nbformat_minor": 0,
  "metadata": {
    "colab": {
      "name": "DataMiningFinalProject.ipynb",
      "provenance": [],
      "collapsed_sections": []
    },
    "kernelspec": {
      "display_name": "Python 3",
      "name": "python3"
    },
    "language_info": {
      "name": "python"
    }
  },
  "cells": [
    {
      "cell_type": "markdown",
      "source": [
        "# Used Car's Price Prediction model"
      ],
      "metadata": {
        "id": "6gORhX7Q3A2n"
      }
    },
    {
      "cell_type": "code",
      "metadata": {
        "id": "d0E0IybriQYQ"
      },
      "source": [
        "# All the necessary Imports\n",
        "\n",
        "import numpy as np\n",
        "import pandas as pd\n",
        "import matplotlib.pyplot as plt\n",
        "import missingno as msno\n",
        "import plotly.express as px\n",
        "import seaborn as sns\n",
        "import os\n",
        "\n",
        "from sklearn.preprocessing import LabelEncoder, OneHotEncoder\n",
        "from sklearn.model_selection import train_test_split, RandomizedSearchCV, GridSearchCV\n",
        "from sklearn.linear_model import LinearRegression\n",
        "from sklearn.tree import DecisionTreeRegressor\n",
        "from sklearn.ensemble import RandomForestRegressor, BaggingRegressor, AdaBoostRegressor, GradientBoostingRegressor\n",
        "import xgboost as xgb\n",
        "from sklearn import metrics"
      ],
      "execution_count": 5,
      "outputs": []
    },
    {
      "cell_type": "code",
      "metadata": {
        "colab": {
          "base_uri": "https://localhost:8080/"
        },
        "id": "nGUL5asUmoeg",
        "outputId": "3fc4d3d4-0412-47b0-ec41-4bc2f7daa209"
      },
      "source": [
        "# Merging all the files of each brand into a single dataframe\n",
        "\n",
        "df = pd.DataFrame()\n",
        "df = pd.read_csv(\"/content/input/carsdataset/Audi.csv\")\n",
        "df['Brand'] = 'Audi'\n",
        "\n",
        "for dirname, _, filenames in os.walk('/content/input/carsdataset'):\n",
        "    for i in filenames[1:]:\n",
        "        df_new = pd.read_csv(dirname+'/'+i)\n",
        "        df_new['Brand'] = i.split('.')[0].replace(' ','_')\n",
        "        df = pd.concat([df,df_new])\n",
        "        df = df.reindex(df.index)\n",
        "\n",
        "# df['Brand'] = df['Brand'].str.capitalize()        \n",
        "print(df.shape)"
      ],
      "execution_count": 7,
      "outputs": [
        {
          "output_type": "stream",
          "name": "stdout",
          "text": [
            "(104995, 10)\n"
          ]
        }
      ]
    },
    {
      "cell_type": "markdown",
      "source": [
        "## Data Exploration and cleaning"
      ],
      "metadata": {
        "id": "rUosy9rm3j4g"
      }
    },
    {
      "cell_type": "markdown",
      "source": [
        "### EDA"
      ],
      "metadata": {
        "id": "eaakPROvAbxw"
      }
    },
    {
      "cell_type": "code",
      "metadata": {
        "colab": {
          "base_uri": "https://localhost:8080/"
        },
        "id": "9-z_sQ6KkZxq",
        "outputId": "81c0d8e6-927d-4158-fb6c-3a539d7e8d7c"
      },
      "source": [
        "df.columns"
      ],
      "execution_count": 8,
      "outputs": [
        {
          "output_type": "execute_result",
          "data": {
            "text/plain": [
              "Index(['model', 'year', 'price', 'transmission', 'mileage', 'fuelType', 'tax',\n",
              "       'mpg', 'engineSize', 'Brand'],\n",
              "      dtype='object')"
            ]
          },
          "metadata": {},
          "execution_count": 8
        }
      ]
    },
    {
      "cell_type": "code",
      "metadata": {
        "colab": {
          "base_uri": "https://localhost:8080/"
        },
        "id": "yMQeh7A7keO6",
        "outputId": "25590ba6-3bd2-4ba4-b3f0-f2287b2d746d"
      },
      "source": [
        "df.isnull().sum()"
      ],
      "execution_count": 9,
      "outputs": [
        {
          "output_type": "execute_result",
          "data": {
            "text/plain": [
              "model            0\n",
              "year             0\n",
              "price           14\n",
              "transmission     0\n",
              "mileage          0\n",
              "fuelType         0\n",
              "tax              0\n",
              "mpg              0\n",
              "engineSize       0\n",
              "Brand            0\n",
              "dtype: int64"
            ]
          },
          "metadata": {},
          "execution_count": 9
        }
      ]
    },
    {
      "cell_type": "code",
      "metadata": {
        "colab": {
          "base_uri": "https://localhost:8080/"
        },
        "id": "8GiCRB-6qFal",
        "outputId": "3b696dca-5893-464b-e6b5-2feab2dd841b"
      },
      "source": [
        "# Removing all the Null Records\n",
        "df = df.dropna()\n",
        "df.reset_index(drop=True)\n",
        "df.isnull().sum()"
      ],
      "execution_count": 10,
      "outputs": [
        {
          "output_type": "execute_result",
          "data": {
            "text/plain": [
              "model           0\n",
              "year            0\n",
              "price           0\n",
              "transmission    0\n",
              "mileage         0\n",
              "fuelType        0\n",
              "tax             0\n",
              "mpg             0\n",
              "engineSize      0\n",
              "Brand           0\n",
              "dtype: int64"
            ]
          },
          "metadata": {},
          "execution_count": 10
        }
      ]
    },
    {
      "cell_type": "code",
      "metadata": {
        "colab": {
          "base_uri": "https://localhost:8080/",
          "height": 300
        },
        "id": "tZk2VTVZkjQt",
        "outputId": "0ccada11-2861-4765-f76d-d1cf1ab875ab"
      },
      "source": [
        " df.describe()"
      ],
      "execution_count": 11,
      "outputs": [
        {
          "output_type": "execute_result",
          "data": {
            "text/plain": [
              "                year          price        mileage            tax  \\\n",
              "count  104981.000000  104981.000000  104981.000000  104981.000000   \n",
              "mean     2017.088149   17552.721864   23309.777817     120.842391   \n",
              "std         2.137381   10395.329128   21545.605946      63.821790   \n",
              "min      1970.000000      -1.000000       1.000000       0.000000   \n",
              "25%      2016.000000   10495.000000    7125.000000     125.000000   \n",
              "50%      2017.000000   15180.000000   17568.000000     145.000000   \n",
              "75%      2019.000000   21980.000000   32868.000000     145.000000   \n",
              "max      2060.000000  159999.000000  323000.000000     580.000000   \n",
              "\n",
              "                 mpg     engineSize  \n",
              "count  104981.000000  104981.000000  \n",
              "mean       54.781628       1.699949  \n",
              "std        16.041672       0.572047  \n",
              "min         0.300000       0.000000  \n",
              "25%        46.300000       1.400000  \n",
              "50%        54.300000       1.600000  \n",
              "75%        62.800000       2.000000  \n",
              "max       470.800000       6.600000  "
            ],
            "text/html": [
              "\n",
              "  <div id=\"df-a14b46ff-f466-403b-889c-bda27e9a4968\">\n",
              "    <div class=\"colab-df-container\">\n",
              "      <div>\n",
              "<style scoped>\n",
              "    .dataframe tbody tr th:only-of-type {\n",
              "        vertical-align: middle;\n",
              "    }\n",
              "\n",
              "    .dataframe tbody tr th {\n",
              "        vertical-align: top;\n",
              "    }\n",
              "\n",
              "    .dataframe thead th {\n",
              "        text-align: right;\n",
              "    }\n",
              "</style>\n",
              "<table border=\"1\" class=\"dataframe\">\n",
              "  <thead>\n",
              "    <tr style=\"text-align: right;\">\n",
              "      <th></th>\n",
              "      <th>year</th>\n",
              "      <th>price</th>\n",
              "      <th>mileage</th>\n",
              "      <th>tax</th>\n",
              "      <th>mpg</th>\n",
              "      <th>engineSize</th>\n",
              "    </tr>\n",
              "  </thead>\n",
              "  <tbody>\n",
              "    <tr>\n",
              "      <th>count</th>\n",
              "      <td>104981.000000</td>\n",
              "      <td>104981.000000</td>\n",
              "      <td>104981.000000</td>\n",
              "      <td>104981.000000</td>\n",
              "      <td>104981.000000</td>\n",
              "      <td>104981.000000</td>\n",
              "    </tr>\n",
              "    <tr>\n",
              "      <th>mean</th>\n",
              "      <td>2017.088149</td>\n",
              "      <td>17552.721864</td>\n",
              "      <td>23309.777817</td>\n",
              "      <td>120.842391</td>\n",
              "      <td>54.781628</td>\n",
              "      <td>1.699949</td>\n",
              "    </tr>\n",
              "    <tr>\n",
              "      <th>std</th>\n",
              "      <td>2.137381</td>\n",
              "      <td>10395.329128</td>\n",
              "      <td>21545.605946</td>\n",
              "      <td>63.821790</td>\n",
              "      <td>16.041672</td>\n",
              "      <td>0.572047</td>\n",
              "    </tr>\n",
              "    <tr>\n",
              "      <th>min</th>\n",
              "      <td>1970.000000</td>\n",
              "      <td>-1.000000</td>\n",
              "      <td>1.000000</td>\n",
              "      <td>0.000000</td>\n",
              "      <td>0.300000</td>\n",
              "      <td>0.000000</td>\n",
              "    </tr>\n",
              "    <tr>\n",
              "      <th>25%</th>\n",
              "      <td>2016.000000</td>\n",
              "      <td>10495.000000</td>\n",
              "      <td>7125.000000</td>\n",
              "      <td>125.000000</td>\n",
              "      <td>46.300000</td>\n",
              "      <td>1.400000</td>\n",
              "    </tr>\n",
              "    <tr>\n",
              "      <th>50%</th>\n",
              "      <td>2017.000000</td>\n",
              "      <td>15180.000000</td>\n",
              "      <td>17568.000000</td>\n",
              "      <td>145.000000</td>\n",
              "      <td>54.300000</td>\n",
              "      <td>1.600000</td>\n",
              "    </tr>\n",
              "    <tr>\n",
              "      <th>75%</th>\n",
              "      <td>2019.000000</td>\n",
              "      <td>21980.000000</td>\n",
              "      <td>32868.000000</td>\n",
              "      <td>145.000000</td>\n",
              "      <td>62.800000</td>\n",
              "      <td>2.000000</td>\n",
              "    </tr>\n",
              "    <tr>\n",
              "      <th>max</th>\n",
              "      <td>2060.000000</td>\n",
              "      <td>159999.000000</td>\n",
              "      <td>323000.000000</td>\n",
              "      <td>580.000000</td>\n",
              "      <td>470.800000</td>\n",
              "      <td>6.600000</td>\n",
              "    </tr>\n",
              "  </tbody>\n",
              "</table>\n",
              "</div>\n",
              "      <button class=\"colab-df-convert\" onclick=\"convertToInteractive('df-a14b46ff-f466-403b-889c-bda27e9a4968')\"\n",
              "              title=\"Convert this dataframe to an interactive table.\"\n",
              "              style=\"display:none;\">\n",
              "        \n",
              "  <svg xmlns=\"http://www.w3.org/2000/svg\" height=\"24px\"viewBox=\"0 0 24 24\"\n",
              "       width=\"24px\">\n",
              "    <path d=\"M0 0h24v24H0V0z\" fill=\"none\"/>\n",
              "    <path d=\"M18.56 5.44l.94 2.06.94-2.06 2.06-.94-2.06-.94-.94-2.06-.94 2.06-2.06.94zm-11 1L8.5 8.5l.94-2.06 2.06-.94-2.06-.94L8.5 2.5l-.94 2.06-2.06.94zm10 10l.94 2.06.94-2.06 2.06-.94-2.06-.94-.94-2.06-.94 2.06-2.06.94z\"/><path d=\"M17.41 7.96l-1.37-1.37c-.4-.4-.92-.59-1.43-.59-.52 0-1.04.2-1.43.59L10.3 9.45l-7.72 7.72c-.78.78-.78 2.05 0 2.83L4 21.41c.39.39.9.59 1.41.59.51 0 1.02-.2 1.41-.59l7.78-7.78 2.81-2.81c.8-.78.8-2.07 0-2.86zM5.41 20L4 18.59l7.72-7.72 1.47 1.35L5.41 20z\"/>\n",
              "  </svg>\n",
              "      </button>\n",
              "      \n",
              "  <style>\n",
              "    .colab-df-container {\n",
              "      display:flex;\n",
              "      flex-wrap:wrap;\n",
              "      gap: 12px;\n",
              "    }\n",
              "\n",
              "    .colab-df-convert {\n",
              "      background-color: #E8F0FE;\n",
              "      border: none;\n",
              "      border-radius: 50%;\n",
              "      cursor: pointer;\n",
              "      display: none;\n",
              "      fill: #1967D2;\n",
              "      height: 32px;\n",
              "      padding: 0 0 0 0;\n",
              "      width: 32px;\n",
              "    }\n",
              "\n",
              "    .colab-df-convert:hover {\n",
              "      background-color: #E2EBFA;\n",
              "      box-shadow: 0px 1px 2px rgba(60, 64, 67, 0.3), 0px 1px 3px 1px rgba(60, 64, 67, 0.15);\n",
              "      fill: #174EA6;\n",
              "    }\n",
              "\n",
              "    [theme=dark] .colab-df-convert {\n",
              "      background-color: #3B4455;\n",
              "      fill: #D2E3FC;\n",
              "    }\n",
              "\n",
              "    [theme=dark] .colab-df-convert:hover {\n",
              "      background-color: #434B5C;\n",
              "      box-shadow: 0px 1px 3px 1px rgba(0, 0, 0, 0.15);\n",
              "      filter: drop-shadow(0px 1px 2px rgba(0, 0, 0, 0.3));\n",
              "      fill: #FFFFFF;\n",
              "    }\n",
              "  </style>\n",
              "\n",
              "      <script>\n",
              "        const buttonEl =\n",
              "          document.querySelector('#df-a14b46ff-f466-403b-889c-bda27e9a4968 button.colab-df-convert');\n",
              "        buttonEl.style.display =\n",
              "          google.colab.kernel.accessAllowed ? 'block' : 'none';\n",
              "\n",
              "        async function convertToInteractive(key) {\n",
              "          const element = document.querySelector('#df-a14b46ff-f466-403b-889c-bda27e9a4968');\n",
              "          const dataTable =\n",
              "            await google.colab.kernel.invokeFunction('convertToInteractive',\n",
              "                                                     [key], {});\n",
              "          if (!dataTable) return;\n",
              "\n",
              "          const docLinkHtml = 'Like what you see? Visit the ' +\n",
              "            '<a target=\"_blank\" href=https://colab.research.google.com/notebooks/data_table.ipynb>data table notebook</a>'\n",
              "            + ' to learn more about interactive tables.';\n",
              "          element.innerHTML = '';\n",
              "          dataTable['output_type'] = 'display_data';\n",
              "          await google.colab.output.renderOutput(dataTable, element);\n",
              "          const docLink = document.createElement('div');\n",
              "          docLink.innerHTML = docLinkHtml;\n",
              "          element.appendChild(docLink);\n",
              "        }\n",
              "      </script>\n",
              "    </div>\n",
              "  </div>\n",
              "  "
            ]
          },
          "metadata": {},
          "execution_count": 11
        }
      ]
    },
    {
      "cell_type": "code",
      "metadata": {
        "colab": {
          "base_uri": "https://localhost:8080/"
        },
        "id": "-lANEigss-g1",
        "outputId": "12bfed79-d607-4bf7-ecf0-65fd646c3f3d"
      },
      "source": [
        "# Counting the number of records with -1\n",
        "\n",
        "df['price'][df['price']<=-1].count()"
      ],
      "execution_count": 12,
      "outputs": [
        {
          "output_type": "execute_result",
          "data": {
            "text/plain": [
              "672"
            ]
          },
          "metadata": {},
          "execution_count": 12
        }
      ]
    },
    {
      "cell_type": "code",
      "metadata": {
        "id": "rDd4T3jNtANz"
      },
      "source": [
        "# Dropping the rows with the values of -1 in price \n",
        "\n",
        "df.drop(df[df['price'] == -1].index, inplace = True)"
      ],
      "execution_count": 13,
      "outputs": []
    },
    {
      "cell_type": "code",
      "metadata": {
        "colab": {
          "base_uri": "https://localhost:8080/",
          "height": 300
        },
        "id": "ZjCZbnEftdJa",
        "outputId": "b7662b25-f8ee-4b27-aa9d-105bdf5c7ab7"
      },
      "source": [
        " df.describe()"
      ],
      "execution_count": 14,
      "outputs": [
        {
          "output_type": "execute_result",
          "data": {
            "text/plain": [
              "               year          price        mileage           tax           mpg  \\\n",
              "count  99388.000000   99388.000000   99388.000000  99388.000000  99388.000000   \n",
              "mean    2017.076699   17544.767487   23459.800590    120.567724     54.834415   \n",
              "std        2.146300   10354.330447   21671.850477     63.952188     16.112249   \n",
              "min     1970.000000     450.000000       1.000000      0.000000      0.300000   \n",
              "25%     2016.000000   10495.000000    7226.000000    125.000000     46.300000   \n",
              "50%     2017.000000   14999.000000   17726.500000    145.000000     54.300000   \n",
              "75%     2019.000000   21899.000000   33000.000000    145.000000     62.800000   \n",
              "max     2060.000000  159999.000000  323000.000000    580.000000    470.800000   \n",
              "\n",
              "         engineSize  \n",
              "count  99388.000000  \n",
              "mean       1.695161  \n",
              "std        0.572183  \n",
              "min        0.000000  \n",
              "25%        1.400000  \n",
              "50%        1.600000  \n",
              "75%        2.000000  \n",
              "max        6.600000  "
            ],
            "text/html": [
              "\n",
              "  <div id=\"df-e76b11e9-4f88-420c-986d-0f20097b6529\">\n",
              "    <div class=\"colab-df-container\">\n",
              "      <div>\n",
              "<style scoped>\n",
              "    .dataframe tbody tr th:only-of-type {\n",
              "        vertical-align: middle;\n",
              "    }\n",
              "\n",
              "    .dataframe tbody tr th {\n",
              "        vertical-align: top;\n",
              "    }\n",
              "\n",
              "    .dataframe thead th {\n",
              "        text-align: right;\n",
              "    }\n",
              "</style>\n",
              "<table border=\"1\" class=\"dataframe\">\n",
              "  <thead>\n",
              "    <tr style=\"text-align: right;\">\n",
              "      <th></th>\n",
              "      <th>year</th>\n",
              "      <th>price</th>\n",
              "      <th>mileage</th>\n",
              "      <th>tax</th>\n",
              "      <th>mpg</th>\n",
              "      <th>engineSize</th>\n",
              "    </tr>\n",
              "  </thead>\n",
              "  <tbody>\n",
              "    <tr>\n",
              "      <th>count</th>\n",
              "      <td>99388.000000</td>\n",
              "      <td>99388.000000</td>\n",
              "      <td>99388.000000</td>\n",
              "      <td>99388.000000</td>\n",
              "      <td>99388.000000</td>\n",
              "      <td>99388.000000</td>\n",
              "    </tr>\n",
              "    <tr>\n",
              "      <th>mean</th>\n",
              "      <td>2017.076699</td>\n",
              "      <td>17544.767487</td>\n",
              "      <td>23459.800590</td>\n",
              "      <td>120.567724</td>\n",
              "      <td>54.834415</td>\n",
              "      <td>1.695161</td>\n",
              "    </tr>\n",
              "    <tr>\n",
              "      <th>std</th>\n",
              "      <td>2.146300</td>\n",
              "      <td>10354.330447</td>\n",
              "      <td>21671.850477</td>\n",
              "      <td>63.952188</td>\n",
              "      <td>16.112249</td>\n",
              "      <td>0.572183</td>\n",
              "    </tr>\n",
              "    <tr>\n",
              "      <th>min</th>\n",
              "      <td>1970.000000</td>\n",
              "      <td>450.000000</td>\n",
              "      <td>1.000000</td>\n",
              "      <td>0.000000</td>\n",
              "      <td>0.300000</td>\n",
              "      <td>0.000000</td>\n",
              "    </tr>\n",
              "    <tr>\n",
              "      <th>25%</th>\n",
              "      <td>2016.000000</td>\n",
              "      <td>10495.000000</td>\n",
              "      <td>7226.000000</td>\n",
              "      <td>125.000000</td>\n",
              "      <td>46.300000</td>\n",
              "      <td>1.400000</td>\n",
              "    </tr>\n",
              "    <tr>\n",
              "      <th>50%</th>\n",
              "      <td>2017.000000</td>\n",
              "      <td>14999.000000</td>\n",
              "      <td>17726.500000</td>\n",
              "      <td>145.000000</td>\n",
              "      <td>54.300000</td>\n",
              "      <td>1.600000</td>\n",
              "    </tr>\n",
              "    <tr>\n",
              "      <th>75%</th>\n",
              "      <td>2019.000000</td>\n",
              "      <td>21899.000000</td>\n",
              "      <td>33000.000000</td>\n",
              "      <td>145.000000</td>\n",
              "      <td>62.800000</td>\n",
              "      <td>2.000000</td>\n",
              "    </tr>\n",
              "    <tr>\n",
              "      <th>max</th>\n",
              "      <td>2060.000000</td>\n",
              "      <td>159999.000000</td>\n",
              "      <td>323000.000000</td>\n",
              "      <td>580.000000</td>\n",
              "      <td>470.800000</td>\n",
              "      <td>6.600000</td>\n",
              "    </tr>\n",
              "  </tbody>\n",
              "</table>\n",
              "</div>\n",
              "      <button class=\"colab-df-convert\" onclick=\"convertToInteractive('df-e76b11e9-4f88-420c-986d-0f20097b6529')\"\n",
              "              title=\"Convert this dataframe to an interactive table.\"\n",
              "              style=\"display:none;\">\n",
              "        \n",
              "  <svg xmlns=\"http://www.w3.org/2000/svg\" height=\"24px\"viewBox=\"0 0 24 24\"\n",
              "       width=\"24px\">\n",
              "    <path d=\"M0 0h24v24H0V0z\" fill=\"none\"/>\n",
              "    <path d=\"M18.56 5.44l.94 2.06.94-2.06 2.06-.94-2.06-.94-.94-2.06-.94 2.06-2.06.94zm-11 1L8.5 8.5l.94-2.06 2.06-.94-2.06-.94L8.5 2.5l-.94 2.06-2.06.94zm10 10l.94 2.06.94-2.06 2.06-.94-2.06-.94-.94-2.06-.94 2.06-2.06.94z\"/><path d=\"M17.41 7.96l-1.37-1.37c-.4-.4-.92-.59-1.43-.59-.52 0-1.04.2-1.43.59L10.3 9.45l-7.72 7.72c-.78.78-.78 2.05 0 2.83L4 21.41c.39.39.9.59 1.41.59.51 0 1.02-.2 1.41-.59l7.78-7.78 2.81-2.81c.8-.78.8-2.07 0-2.86zM5.41 20L4 18.59l7.72-7.72 1.47 1.35L5.41 20z\"/>\n",
              "  </svg>\n",
              "      </button>\n",
              "      \n",
              "  <style>\n",
              "    .colab-df-container {\n",
              "      display:flex;\n",
              "      flex-wrap:wrap;\n",
              "      gap: 12px;\n",
              "    }\n",
              "\n",
              "    .colab-df-convert {\n",
              "      background-color: #E8F0FE;\n",
              "      border: none;\n",
              "      border-radius: 50%;\n",
              "      cursor: pointer;\n",
              "      display: none;\n",
              "      fill: #1967D2;\n",
              "      height: 32px;\n",
              "      padding: 0 0 0 0;\n",
              "      width: 32px;\n",
              "    }\n",
              "\n",
              "    .colab-df-convert:hover {\n",
              "      background-color: #E2EBFA;\n",
              "      box-shadow: 0px 1px 2px rgba(60, 64, 67, 0.3), 0px 1px 3px 1px rgba(60, 64, 67, 0.15);\n",
              "      fill: #174EA6;\n",
              "    }\n",
              "\n",
              "    [theme=dark] .colab-df-convert {\n",
              "      background-color: #3B4455;\n",
              "      fill: #D2E3FC;\n",
              "    }\n",
              "\n",
              "    [theme=dark] .colab-df-convert:hover {\n",
              "      background-color: #434B5C;\n",
              "      box-shadow: 0px 1px 3px 1px rgba(0, 0, 0, 0.15);\n",
              "      filter: drop-shadow(0px 1px 2px rgba(0, 0, 0, 0.3));\n",
              "      fill: #FFFFFF;\n",
              "    }\n",
              "  </style>\n",
              "\n",
              "      <script>\n",
              "        const buttonEl =\n",
              "          document.querySelector('#df-e76b11e9-4f88-420c-986d-0f20097b6529 button.colab-df-convert');\n",
              "        buttonEl.style.display =\n",
              "          google.colab.kernel.accessAllowed ? 'block' : 'none';\n",
              "\n",
              "        async function convertToInteractive(key) {\n",
              "          const element = document.querySelector('#df-e76b11e9-4f88-420c-986d-0f20097b6529');\n",
              "          const dataTable =\n",
              "            await google.colab.kernel.invokeFunction('convertToInteractive',\n",
              "                                                     [key], {});\n",
              "          if (!dataTable) return;\n",
              "\n",
              "          const docLinkHtml = 'Like what you see? Visit the ' +\n",
              "            '<a target=\"_blank\" href=https://colab.research.google.com/notebooks/data_table.ipynb>data table notebook</a>'\n",
              "            + ' to learn more about interactive tables.';\n",
              "          element.innerHTML = '';\n",
              "          dataTable['output_type'] = 'display_data';\n",
              "          await google.colab.output.renderOutput(dataTable, element);\n",
              "          const docLink = document.createElement('div');\n",
              "          docLink.innerHTML = docLinkHtml;\n",
              "          element.appendChild(docLink);\n",
              "        }\n",
              "      </script>\n",
              "    </div>\n",
              "  </div>\n",
              "  "
            ]
          },
          "metadata": {},
          "execution_count": 14
        }
      ]
    },
    {
      "cell_type": "code",
      "metadata": {
        "colab": {
          "base_uri": "https://localhost:8080/"
        },
        "id": "BwgNbWkTknyd",
        "outputId": "01d8003e-b46a-41c2-e027-e2bedba185a3"
      },
      "source": [
        " print(df.head(100))\n",
        " print(df.tail(100))"
      ],
      "execution_count": 15,
      "outputs": [
        {
          "output_type": "stream",
          "name": "stdout",
          "text": [
            "    model  year    price transmission  mileage fuelType  tax   mpg  \\\n",
            "396    A3  2015  14990.0    Semi-Auto    30530   Diesel   30  64.2   \n",
            "441    A3  2019  23995.0    Semi-Auto     2868   Diesel  145  52.3   \n",
            "489    Q7  2017  35995.0    Semi-Auto    33165   Diesel  200  47.9   \n",
            "490    Q2  2017  19995.0       Manual    27078   Petrol  125  50.4   \n",
            "491    Q2  2017  19995.0       Manual    29874   Petrol  125  50.4   \n",
            "..    ...   ...      ...          ...      ...      ...  ...   ...   \n",
            "670    A4  2019  29995.0    Automatic    13690   Diesel  145  47.9   \n",
            "671    Q3  2016  20495.0    Semi-Auto    25125   Diesel  160  50.4   \n",
            "672    Q5  2019  34995.0    Automatic     6400   Diesel  145  38.2   \n",
            "673    A3  2019  19495.0       Manual     3265   Petrol  145  47.1   \n",
            "674    Q3  2017  22995.0    Semi-Auto    17680   Petrol  145  42.2   \n",
            "\n",
            "     engineSize Brand  \n",
            "396         2.0  Audi  \n",
            "441         1.6  Audi  \n",
            "489         3.0  Audi  \n",
            "490         1.4  Audi  \n",
            "491         1.4  Audi  \n",
            "..          ...   ...  \n",
            "670         2.0  Audi  \n",
            "671         2.0  Audi  \n",
            "672         2.0  Audi  \n",
            "673         1.0  Audi  \n",
            "674         2.0  Audi  \n",
            "\n",
            "[100 rows x 10 columns]\n",
            "               model  year    price transmission  mileage fuelType  tax   mpg  \\\n",
            "6638    PROACE VERSO  2019  27998.0    Automatic       50   Diesel  145  38.7   \n",
            "6639    PROACE VERSO  2019  25488.0       Manual     2456   Diesel  145  40.4   \n",
            "6640    PROACE VERSO  2019  28456.0    Automatic     9119   Diesel  145  38.7   \n",
            "6641    PROACE VERSO  2019  24990.0       Manual     7350   Diesel  145  40.4   \n",
            "6642    PROACE VERSO  2019  27990.0    Automatic     5633   Diesel  145  38.7   \n",
            "...              ...   ...      ...          ...      ...      ...  ...   ...   \n",
            "6733              IQ  2011   5500.0    Automatic    30000   Petrol   20  58.9   \n",
            "6734   Urban Cruiser  2011   4985.0       Manual    36154   Petrol  125  50.4   \n",
            "6735   Urban Cruiser  2012   4995.0       Manual    46000   Diesel  125  57.6   \n",
            "6736   Urban Cruiser  2011   3995.0       Manual    60700   Petrol  125  50.4   \n",
            "6737   Urban Cruiser  2011   4495.0       Manual    45128   Petrol  125  50.4   \n",
            "\n",
            "      engineSize   Brand  \n",
            "6638         2.0  Toyota  \n",
            "6639         2.0  Toyota  \n",
            "6640         2.0  Toyota  \n",
            "6641         2.0  Toyota  \n",
            "6642         2.0  Toyota  \n",
            "...          ...     ...  \n",
            "6733         1.0  Toyota  \n",
            "6734         1.3  Toyota  \n",
            "6735         1.4  Toyota  \n",
            "6736         1.3  Toyota  \n",
            "6737         1.3  Toyota  \n",
            "\n",
            "[100 rows x 10 columns]\n"
          ]
        }
      ]
    },
    {
      "cell_type": "code",
      "metadata": {
        "colab": {
          "base_uri": "https://localhost:8080/"
        },
        "id": "VbuIvyfPquys",
        "outputId": "861b2874-1b4a-4084-bda6-47af11cb4662"
      },
      "source": [
        "df.info()"
      ],
      "execution_count": 16,
      "outputs": [
        {
          "output_type": "stream",
          "name": "stdout",
          "text": [
            "<class 'pandas.core.frame.DataFrame'>\n",
            "Int64Index: 99388 entries, 396 to 6737\n",
            "Data columns (total 10 columns):\n",
            " #   Column        Non-Null Count  Dtype  \n",
            "---  ------        --------------  -----  \n",
            " 0   model         99388 non-null  object \n",
            " 1   year          99388 non-null  int64  \n",
            " 2   price         99388 non-null  float64\n",
            " 3   transmission  99388 non-null  object \n",
            " 4   mileage       99388 non-null  int64  \n",
            " 5   fuelType      99388 non-null  object \n",
            " 6   tax           99388 non-null  int64  \n",
            " 7   mpg           99388 non-null  float64\n",
            " 8   engineSize    99388 non-null  float64\n",
            " 9   Brand         99388 non-null  object \n",
            "dtypes: float64(3), int64(3), object(4)\n",
            "memory usage: 8.3+ MB\n"
          ]
        }
      ]
    },
    {
      "cell_type": "code",
      "metadata": {
        "colab": {
          "base_uri": "https://localhost:8080/"
        },
        "id": "mz34lBXKk2NH",
        "outputId": "59e21764-8380-439d-d3b7-f4fbdc96b1b4"
      },
      "source": [
        "df.loc[df['Brand'] == 'Merc', 'Brand'] = 'Mercedes'\n",
        "df.loc[df['Brand'] == 'Vw', 'Brand'] = 'Volkswagen'\n",
        "df['Brand'].unique()\n"
      ],
      "execution_count": 17,
      "outputs": [
        {
          "output_type": "execute_result",
          "data": {
            "text/plain": [
              "array(['Audi', 'Volkswagen', 'Vauxhall', 'Mercedes', 'Ford', 'Bmw',\n",
              "       'Skoda', 'Toyota'], dtype=object)"
            ]
          },
          "metadata": {},
          "execution_count": 17
        }
      ]
    },
    {
      "cell_type": "code",
      "metadata": {
        "colab": {
          "base_uri": "https://localhost:8080/",
          "height": 510
        },
        "id": "ro71DIadk5RQ",
        "outputId": "e3c291cf-4805-4c8c-ed81-654cfb8f284c"
      },
      "source": [
        "msno.bar(df, color=\"dodgerblue\")"
      ],
      "execution_count": 18,
      "outputs": [
        {
          "output_type": "execute_result",
          "data": {
            "text/plain": [
              "<matplotlib.axes._subplots.AxesSubplot at 0x7fdf87632e90>"
            ]
          },
          "metadata": {},
          "execution_count": 18
        },
        {
          "output_type": "display_data",
          "data": {
            "text/plain": [
              "<Figure size 1800x720 with 3 Axes>"
            ],
            "image/png": "[encoded data removed]"
          },
          "metadata": {
            "needs_background": "light"
          }
        }
      ]
    },
    {
      "cell_type": "markdown",
      "source": [
        "### Visualisation"
      ],
      "metadata": {
        "id": "uKk3IuDQ3wp9"
      }
    },
    {
      "cell_type": "code",
      "metadata": {
        "colab": {
          "base_uri": "https://localhost:8080/",
          "height": 542
        },
        "id": "yOxKZZbrjzK8",
        "outputId": "43362a1d-7a71-4445-a923-28b81a55a0e2"
      },
      "source": [
        "# Piechart representing the cars distribution basis the Fuel Type\n",
        "\n",
        "px.pie(df, values=df['fuelType'].value_counts(), names=df['fuelType'].unique(), \n",
        "       title='Distribution of Cars basis Fuel Type')"
      ],
      "execution_count": 19,
      "outputs": [
        {
          "output_type": "display_data",
          "data": {
            "text/html": [
              "<html>\n",
              "<head><meta charset=\"utf-8\" /></head>\n",
              "<body>\n",
              "    <div>            <script src=\"https://cdnjs.cloudflare.com/ajax/libs/mathjax/2.7.5/MathJax.js?config=TeX-AMS-MML_SVG\"></script><script type=\"text/javascript\">if (window.MathJax) {MathJax.Hub.Config({SVG: {font: \"STIX-Web\"}});}</script>                <script type=\"text/javascript\">window.PlotlyConfig = {MathJaxConfig: 'local'};</script>\n",
              "        <script src=\"https://cdn.plot.ly/plotly-2.8.3.min.js\"></script>                <div id=\"1bd23e33-e340-493a-b63f-d351c0b26d7b\" class=\"plotly-graph-div\" style=\"height:525px; width:100%;\"></div>            <script type=\"text/javascript\">                                    window.PLOTLYENV=window.PLOTLYENV || {};                                    if (document.getElementById(\"1bd23e33-e340-493a-b63f-d351c0b26d7b\")) {                    Plotly.newPlot(                        \"1bd23e33-e340-493a-b63f-d351c0b26d7b\",                        [{\"domain\":{\"x\":[0.0,1.0],\"y\":[0.0,1.0]},\"hovertemplate\":\"label=%{label}<br>value=%{value}<extra></extra>\",\"labels\":[\"Diesel\",\"Petrol\",\"Hybrid\",\"Other\",\"Electric\"],\"legendgroup\":\"\",\"name\":\"\",\"showlegend\":true,\"values\":[54280,42453,2419,230,6],\"type\":\"pie\"}],                        {\"template\":{\"data\":{\"bar\":[{\"error_x\":{\"color\":\"#2a3f5f\"},\"error_y\":{\"color\":\"#2a3f5f\"},\"marker\":{\"line\":{\"color\":\"#E5ECF6\",\"width\":0.5},\"pattern\":{\"fillmode\":\"overlay\",\"size\":10,\"solidity\":0.2}},\"type\":\"bar\"}],\"barpolar\":[{\"marker\":{\"line\":{\"color\":\"#E5ECF6\",\"width\":0.5},\"pattern\":{\"fillmode\":\"overlay\",\"size\":10,\"solidity\":0.2}},\"type\":\"barpolar\"}],\"carpet\":[{\"aaxis\":{\"endlinecolor\":\"#2a3f5f\",\"gridcolor\":\"white\",\"linecolor\":\"white\",\"minorgridcolor\":\"white\",\"startlinecolor\":\"#2a3f5f\"},\"baxis\":{\"endlinecolor\":\"#2a3f5f\",\"gridcolor\":\"white\",\"linecolor\":\"white\",\"minorgridcolor\":\"white\",\"startlinecolor\":\"#2a3f5f\"},\"type\":\"carpet\"}],\"choropleth\":[{\"colorbar\":{\"outlinewidth\":0,\"ticks\":\"\"},\"type\":\"choropleth\"}],\"contour\":[{\"colorbar\":{\"outlinewidth\":0,\"ticks\":\"\"},\"colorscale\":[[0.0,\"#0d0887\"],[0.1111111111111111,\"#46039f\"],[0.2222222222222222,\"#7201a8\"],[0.3333333333333333,\"#9c179e\"],[0.4444444444444444,\"#bd3786\"],[0.5555555555555556,\"#d8576b\"],[0.6666666666666666,\"#ed7953\"],[0.7777777777777778,\"#fb9f3a\"],[0.8888888888888888,\"#fdca26\"],[1.0,\"#f0f921\"]],\"type\":\"contour\"}],\"contourcarpet\":[{\"colorbar\":{\"outlinewidth\":0,\"ticks\":\"\"},\"type\":\"contourcarpet\"}],\"heatmap\":[{\"colorbar\":{\"outlinewidth\":0,\"ticks\":\"\"},\"colorscale\":[[0.0,\"#0d0887\"],[0.1111111111111111,\"#46039f\"],[0.2222222222222222,\"#7201a8\"],[0.3333333333333333,\"#9c179e\"],[0.4444444444444444,\"#bd3786\"],[0.5555555555555556,\"#d8576b\"],[0.6666666666666666,\"#ed7953\"],[0.7777777777777778,\"#fb9f3a\"],[0.8888888888888888,\"#fdca26\"],[1.0,\"#f0f921\"]],\"type\":\"heatmap\"}],\"heatmapgl\":[{\"colorbar\":{\"outlinewidth\":0,\"ticks\":\"\"},\"colorscale\":[[0.0,\"#0d0887\"],[0.1111111111111111,\"#46039f\"],[0.2222222222222222,\"#7201a8\"],[0.3333333333333333,\"#9c179e\"],[0.4444444444444444,\"#bd3786\"],[0.5555555555555556,\"#d8576b\"],[0.6666666666666666,\"#ed7953\"],[0.7777777777777778,\"#fb9f3a\"],[0.8888888888888888,\"#fdca26\"],[1.0,\"#f0f921\"]],\"type\":\"heatmapgl\"}],\"histogram\":[{\"marker\":{\"pattern\":{\"fillmode\":\"overlay\",\"size\":10,\"solidity\":0.2}},\"type\":\"histogram\"}],\"histogram2d\":[{\"colorbar\":{\"outlinewidth\":0,\"ticks\":\"\"},\"colorscale\":[[0.0,\"#0d0887\"],[0.1111111111111111,\"#46039f\"],[0.2222222222222222,\"#7201a8\"],[0.3333333333333333,\"#9c179e\"],[0.4444444444444444,\"#bd3786\"],[0.5555555555555556,\"#d8576b\"],[0.6666666666666666,\"#ed7953\"],[0.7777777777777778,\"#fb9f3a\"],[0.8888888888888888,\"#fdca26\"],[1.0,\"#f0f921\"]],\"type\":\"histogram2d\"}],\"histogram2dcontour\":[{\"colorbar\":{\"outlinewidth\":0,\"ticks\":\"\"},\"colorscale\":[[0.0,\"#0d0887\"],[0.1111111111111111,\"#46039f\"],[0.2222222222222222,\"#7201a8\"],[0.3333333333333333,\"#9c179e\"],[0.4444444444444444,\"#bd3786\"],[0.5555555555555556,\"#d8576b\"],[0.6666666666666666,\"#ed7953\"],[0.7777777777777778,\"#fb9f3a\"],[0.8888888888888888,\"#fdca26\"],[1.0,\"#f0f921\"]],\"type\":\"histogram2dcontour\"}],\"mesh3d\":[{\"colorbar\":{\"outlinewidth\":0,\"ticks\":\"\"},\"type\":\"mesh3d\"}],\"parcoords\":[{\"line\":{\"colorbar\":{\"outlinewidth\":0,\"ticks\":\"\"}},\"type\":\"parcoords\"}],\"pie\":[{\"automargin\":true,\"type\":\"pie\"}],\"scatter\":[{\"marker\":{\"colorbar\":{\"outlinewidth\":0,\"ticks\":\"\"}},\"type\":\"scatter\"}],\"scatter3d\":[{\"line\":{\"colorbar\":{\"outlinewidth\":0,\"ticks\":\"\"}},\"marker\":{\"colorbar\":{\"outlinewidth\":0,\"ticks\":\"\"}},\"type\":\"scatter3d\"}],\"scattercarpet\":[{\"marker\":{\"colorbar\":{\"outlinewidth\":0,\"ticks\":\"\"}},\"type\":\"scattercarpet\"}],\"scattergeo\":[{\"marker\":{\"colorbar\":{\"outlinewidth\":0,\"ticks\":\"\"}},\"type\":\"scattergeo\"}],\"scattergl\":[{\"marker\":{\"colorbar\":{\"outlinewidth\":0,\"ticks\":\"\"}},\"type\":\"scattergl\"}],\"scattermapbox\":[{\"marker\":{\"colorbar\":{\"outlinewidth\":0,\"ticks\":\"\"}},\"type\":\"scattermapbox\"}],\"scatterpolar\":[{\"marker\":{\"colorbar\":{\"outlinewidth\":0,\"ticks\":\"\"}},\"type\":\"scatterpolar\"}],\"scatterpolargl\":[{\"marker\":{\"colorbar\":{\"outlinewidth\":0,\"ticks\":\"\"}},\"type\":\"scatterpolargl\"}],\"scatterternary\":[{\"marker\":{\"colorbar\":{\"outlinewidth\":0,\"ticks\":\"\"}},\"type\":\"scatterternary\"}],\"surface\":[{\"colorbar\":{\"outlinewidth\":0,\"ticks\":\"\"},\"colorscale\":[[0.0,\"#0d0887\"],[0.1111111111111111,\"#46039f\"],[0.2222222222222222,\"#7201a8\"],[0.3333333333333333,\"#9c179e\"],[0.4444444444444444,\"#bd3786\"],[0.5555555555555556,\"#d8576b\"],[0.6666666666666666,\"#ed7953\"],[0.7777777777777778,\"#fb9f3a\"],[0.8888888888888888,\"#fdca26\"],[1.0,\"#f0f921\"]],\"type\":\"surface\"}],\"table\":[{\"cells\":{\"fill\":{\"color\":\"#EBF0F8\"},\"line\":{\"color\":\"white\"}},\"header\":{\"fill\":{\"color\":\"#C8D4E3\"},\"line\":{\"color\":\"white\"}},\"type\":\"table\"}]},\"layout\":{\"annotationdefaults\":{\"arrowcolor\":\"#2a3f5f\",\"arrowhead\":0,\"arrowwidth\":1},\"autotypenumbers\":\"strict\",\"coloraxis\":{\"colorbar\":{\"outlinewidth\":0,\"ticks\":\"\"}},\"colorscale\":{\"diverging\":[[0,\"#8e0152\"],[0.1,\"#c51b7d\"],[0.2,\"#de77ae\"],[0.3,\"#f1b6da\"],[0.4,\"#fde0ef\"],[0.5,\"#f7f7f7\"],[0.6,\"#e6f5d0\"],[0.7,\"#b8e186\"],[0.8,\"#7fbc41\"],[0.9,\"#4d9221\"],[1,\"#276419\"]],\"sequential\":[[0.0,\"#0d0887\"],[0.1111111111111111,\"#46039f\"],[0.2222222222222222,\"#7201a8\"],[0.3333333333333333,\"#9c179e\"],[0.4444444444444444,\"#bd3786\"],[0.5555555555555556,\"#d8576b\"],[0.6666666666666666,\"#ed7953\"],[0.7777777777777778,\"#fb9f3a\"],[0.8888888888888888,\"#fdca26\"],[1.0,\"#f0f921\"]],\"sequentialminus\":[[0.0,\"#0d0887\"],[0.1111111111111111,\"#46039f\"],[0.2222222222222222,\"#7201a8\"],[0.3333333333333333,\"#9c179e\"],[0.4444444444444444,\"#bd3786\"],[0.5555555555555556,\"#d8576b\"],[0.6666666666666666,\"#ed7953\"],[0.7777777777777778,\"#fb9f3a\"],[0.8888888888888888,\"#fdca26\"],[1.0,\"#f0f921\"]]},\"colorway\":[\"#636efa\",\"#EF553B\",\"#00cc96\",\"#ab63fa\",\"#FFA15A\",\"#19d3f3\",\"#FF6692\",\"#B6E880\",\"#FF97FF\",\"#FECB52\"],\"font\":{\"color\":\"#2a3f5f\"},\"geo\":{\"bgcolor\":\"white\",\"lakecolor\":\"white\",\"landcolor\":\"#E5ECF6\",\"showlakes\":true,\"showland\":true,\"subunitcolor\":\"white\"},\"hoverlabel\":{\"align\":\"left\"},\"hovermode\":\"closest\",\"mapbox\":{\"style\":\"light\"},\"paper_bgcolor\":\"white\",\"plot_bgcolor\":\"#E5ECF6\",\"polar\":{\"angularaxis\":{\"gridcolor\":\"white\",\"linecolor\":\"white\",\"ticks\":\"\"},\"bgcolor\":\"#E5ECF6\",\"radialaxis\":{\"gridcolor\":\"white\",\"linecolor\":\"white\",\"ticks\":\"\"}},\"scene\":{\"xaxis\":{\"backgroundcolor\":\"#E5ECF6\",\"gridcolor\":\"white\",\"gridwidth\":2,\"linecolor\":\"white\",\"showbackground\":true,\"ticks\":\"\",\"zerolinecolor\":\"white\"},\"yaxis\":{\"backgroundcolor\":\"#E5ECF6\",\"gridcolor\":\"white\",\"gridwidth\":2,\"linecolor\":\"white\",\"showbackground\":true,\"ticks\":\"\",\"zerolinecolor\":\"white\"},\"zaxis\":{\"backgroundcolor\":\"#E5ECF6\",\"gridcolor\":\"white\",\"gridwidth\":2,\"linecolor\":\"white\",\"showbackground\":true,\"ticks\":\"\",\"zerolinecolor\":\"white\"}},\"shapedefaults\":{\"line\":{\"color\":\"#2a3f5f\"}},\"ternary\":{\"aaxis\":{\"gridcolor\":\"white\",\"linecolor\":\"white\",\"ticks\":\"\"},\"baxis\":{\"gridcolor\":\"white\",\"linecolor\":\"white\",\"ticks\":\"\"},\"bgcolor\":\"#E5ECF6\",\"caxis\":{\"gridcolor\":\"white\",\"linecolor\":\"white\",\"ticks\":\"\"}},\"title\":{\"x\":0.05},\"xaxis\":{\"automargin\":true,\"gridcolor\":\"white\",\"linecolor\":\"white\",\"ticks\":\"\",\"title\":{\"standoff\":15},\"zerolinecolor\":\"white\",\"zerolinewidth\":2},\"yaxis\":{\"automargin\":true,\"gridcolor\":\"white\",\"linecolor\":\"white\",\"ticks\":\"\",\"title\":{\"standoff\":15},\"zerolinecolor\":\"white\",\"zerolinewidth\":2}}},\"legend\":{\"tracegroupgap\":0},\"title\":{\"text\":\"Distribution of Cars basis Fuel Type\"}},                        {\"responsive\": true}                    ).then(function(){\n",
              "                            \n",
              "var gd = document.getElementById('1bd23e33-e340-493a-b63f-d351c0b26d7b');\n",
              "var x = new MutationObserver(function (mutations, observer) {{\n",
              "        var display = window.getComputedStyle(gd).display;\n",
              "        if (!display || display === 'none') {{\n",
              "            console.log([gd, 'removed!']);\n",
              "            Plotly.purge(gd);\n",
              "            observer.disconnect();\n",
              "        }}\n",
              "}});\n",
              "\n",
              "// Listen for the removal of the full notebook cells\n",
              "var notebookContainer = gd.closest('#notebook-container');\n",
              "if (notebookContainer) {{\n",
              "    x.observe(notebookContainer, {childList: true});\n",
              "}}\n",
              "\n",
              "// Listen for the clearing of the current output cell\n",
              "var outputEl = gd.closest('.output');\n",
              "if (outputEl) {{\n",
              "    x.observe(outputEl, {childList: true});\n",
              "}}\n",
              "\n",
              "                        })                };                            </script>        </div>\n",
              "</body>\n",
              "</html>"
            ]
          },
          "metadata": {}
        }
      ]
    },
    {
      "cell_type": "code",
      "metadata": {
        "colab": {
          "base_uri": "https://localhost:8080/",
          "height": 498
        },
        "id": "RTpcg6uKsmmZ",
        "outputId": "d815375d-6ca7-4c9e-df34-0b7eb4770b1e"
      },
      "source": [
        "# Bar Plot showing the value of price basis the brand and transmission of the Car\n",
        "\n",
        "sns.catplot(x='Brand', y ='price', hue='transmission', data=df, kind=\"bar\", aspect=2, height=7)"
      ],
      "execution_count": 20,
      "outputs": [
        {
          "output_type": "execute_result",
          "data": {
            "text/plain": [
              "<seaborn.axisgrid.FacetGrid at 0x7fdf9083bdd0>"
            ]
          },
          "metadata": {},
          "execution_count": 20
        },
        {
          "output_type": "display_data",
          "data": {
            "text/plain": [
              "<Figure size 1095.38x504 with 1 Axes>"
            ],
            "image/png": "[encoded data removed]"
          },
          "metadata": {
            "needs_background": "light"
          }
        }
      ]
    },
    {
      "cell_type": "code",
      "metadata": {
        "colab": {
          "base_uri": "https://localhost:8080/",
          "height": 538
        },
        "id": "thxAfPrAHe8y",
        "outputId": "f37d01b7-f6d7-4333-f64d-85aae044a5a0"
      },
      "source": [
        "plt.figure(figsize=(20,10))\n",
        "sns.boxplot(x='Brand', y='price', data=df)"
      ],
      "execution_count": 21,
      "outputs": [
        {
          "output_type": "execute_result",
          "data": {
            "text/plain": [
              "<matplotlib.axes._subplots.AxesSubplot at 0x7fdf83d92b10>"
            ]
          },
          "metadata": {},
          "execution_count": 21
        },
        {
          "output_type": "display_data",
          "data": {
            "text/plain": [
              "<Figure size 1440x720 with 1 Axes>"
            ],
            "image/png": "[encoded data removed]"
          },
          "metadata": {
            "needs_background": "light"
          }
        }
      ]
    },
    {
      "cell_type": "code",
      "metadata": {
        "colab": {
          "base_uri": "https://localhost:8080/",
          "height": 624
        },
        "id": "TADkPXaFHxK5",
        "outputId": "c8887dfa-2255-4a87-fb53-edcb398766ad"
      },
      "source": [
        "plt.figure(figsize=(15,10))\n",
        "sns.scatterplot(x='mpg',y='price',hue='Brand',data=df)"
      ],
      "execution_count": 22,
      "outputs": [
        {
          "output_type": "execute_result",
          "data": {
            "text/plain": [
              "<matplotlib.axes._subplots.AxesSubplot at 0x7fdf8391b950>"
            ]
          },
          "metadata": {},
          "execution_count": 22
        },
        {
          "output_type": "display_data",
          "data": {
            "text/plain": [
              "<Figure size 1080x720 with 1 Axes>"
            ],
            "image/png": "[encoded data removed]"
          },
          "metadata": {
            "needs_background": "light"
          }
        }
      ]
    },
    {
      "cell_type": "code",
      "metadata": {
        "colab": {
          "base_uri": "https://localhost:8080/",
          "height": 547
        },
        "id": "5h5ZMw2BJKM8",
        "outputId": "886e1c8d-17bf-47ca-fc9b-7bb7c6c1bf6c"
      },
      "source": [
        "plt.figure(figsize=(20,10))\n",
        "sns.stripplot(x=\"engineSize\", y=\"mpg\", data=df)"
      ],
      "execution_count": 23,
      "outputs": [
        {
          "output_type": "execute_result",
          "data": {
            "text/plain": [
              "<matplotlib.axes._subplots.AxesSubplot at 0x7fdf87397150>"
            ]
          },
          "metadata": {},
          "execution_count": 23
        },
        {
          "output_type": "display_data",
          "data": {
            "text/plain": [
              "<Figure size 1440x720 with 1 Axes>"
            ],
            "image/png": "[encoded data removed]"
          },
          "metadata": {
            "needs_background": "light"
          }
        }
      ]
    },
    {
      "cell_type": "markdown",
      "source": [
        "## Data Prepocessing\n",
        "\n",
        "* There are multiple categorical features\n",
        "* Using label_encoder we will transform them in numerical features"
      ],
      "metadata": {
        "id": "DZAYmfYy4GJG"
      }
    },
    {
      "cell_type": "code",
      "metadata": {
        "id": "ZiBIaQ7Oqaqv"
      },
      "source": [
        "#Data preprocessing\n",
        "df_copy = df.copy()"
      ],
      "execution_count": 24,
      "outputs": []
    },
    {
      "cell_type": "code",
      "metadata": {
        "colab": {
          "base_uri": "https://localhost:8080/"
        },
        "id": "-oGTqiJPt9Fl",
        "outputId": "5a024517-fadc-4ef6-9564-c519ab22b64e"
      },
      "source": [
        "categorical_features = df_copy.select_dtypes(exclude=np.number).columns.to_list()\n",
        "print(f'Categorical features: {categorical_features}\\n\\n')\n",
        "vals = {}\n",
        "\n",
        "# Encode using LabelEncoder\n",
        "for feature in categorical_features:\n",
        "      lab_enc = LabelEncoder()\n",
        "      lab_enc.fit(list(df_copy[feature].astype(str).values))\n",
        "      vals[feature] = dict(zip(lab_enc.classes_, lab_enc.transform(lab_enc.classes_)))\n",
        "      df_copy[feature] = lab_enc.transform(list(df_copy[feature].astype(str).values))\n",
        "      print(vals[feature])"
      ],
      "execution_count": 25,
      "outputs": [
        {
          "output_type": "stream",
          "name": "stdout",
          "text": [
            "Categorical features: ['model', 'transmission', 'fuelType', 'Brand']\n",
            "\n",
            "\n",
            "{' 1 Series': 0, ' 2 Series': 1, ' 3 Series': 2, ' 4 Series': 3, ' 5 Series': 4, ' 6 Series': 5, ' 7 Series': 6, ' 8 Series': 7, ' A Class': 8, ' A1': 9, ' A2': 10, ' A3': 11, ' A4': 12, ' A5': 13, ' A6': 14, ' A7': 15, ' A8': 16, ' Adam': 17, ' Agila': 18, ' Amarok': 19, ' Ampera': 20, ' Antara': 21, ' Arteon': 22, ' Astra': 23, ' Auris': 24, ' Avensis': 25, ' Aygo': 26, ' B Class': 27, ' B-MAX': 28, ' Beetle': 29, ' C Class': 30, ' C-HR': 31, ' C-MAX': 32, ' CC': 33, ' CL Class': 34, ' CLA Class': 35, ' CLC Class': 36, ' CLK': 37, ' CLS Class': 38, ' Caddy': 39, ' Caddy Life': 40, ' Caddy Maxi': 41, ' Caddy Maxi Life': 42, ' California': 43, ' Camry': 44, ' Caravelle': 45, ' Cascada': 46, ' Citigo': 47, ' Combo Life': 48, ' Corsa': 49, ' Crossland X': 50, ' E Class': 51, ' EcoSport': 52, ' Edge': 53, ' Eos': 54, ' Escort': 55, ' Fabia': 56, ' Fiesta': 57, ' Focus': 58, ' Fox': 59, ' Fusion': 60, ' G Class': 61, ' GL Class': 62, ' GLA Class': 63, ' GLB Class': 64, ' GLC Class': 65, ' GLE Class': 66, ' GLS Class': 67, ' GTC': 68, ' Galaxy': 69, ' Golf': 70, ' Golf SV': 71, ' Grand C-MAX': 72, ' Grand Tourneo Connect': 73, ' Grandland X': 74, ' Hilux': 75, ' IQ': 76, ' Insignia': 77, ' Jetta': 78, ' KA': 79, ' Ka+': 80, ' Kadjar': 81, ' Kamiq': 82, ' Karoq': 83, ' Kodiaq': 84, ' Kuga': 85, ' Land Cruiser': 86, ' M Class': 87, ' M2': 88, ' M3': 89, ' M4': 90, ' M5': 91, ' M6': 92, ' Meriva': 93, ' Mokka': 94, ' Mokka X': 95, ' Mondeo': 96, ' Mustang': 97, ' Octavia': 98, ' PROACE VERSO': 99, ' Passat': 100, ' Polo': 101, ' Prius': 102, ' Puma': 103, ' Q2': 104, ' Q3': 105, ' Q5': 106, ' Q7': 107, ' Q8': 108, ' R Class': 109, ' R8': 110, ' RAV4': 111, ' RS3': 112, ' RS4': 113, ' RS5': 114, ' RS6': 115, ' RS7': 116, ' Ranger': 117, ' Rapid': 118, ' Roomster': 119, ' S Class': 120, ' S-MAX': 121, ' S3': 122, ' S4': 123, ' S5': 124, ' S8': 125, ' SL CLASS': 126, ' SLK': 127, ' SQ5': 128, ' SQ7': 129, ' Scala': 130, ' Scirocco': 131, ' Sharan': 132, ' Shuttle': 133, ' Streetka': 134, ' Superb': 135, ' Supra': 136, ' T-Cross': 137, ' T-Roc': 138, ' TT': 139, ' Tigra': 140, ' Tiguan': 141, ' Tiguan Allspace': 142, ' Touareg': 143, ' Touran': 144, ' Tourneo Connect': 145, ' Tourneo Custom': 146, ' Transit Tourneo': 147, ' Up': 148, ' Urban Cruiser': 149, ' V Class': 150, ' Vectra': 151, ' Verso': 152, ' Verso-S': 153, ' Viva': 154, ' Vivaro': 155, ' X-CLASS': 156, ' X1': 157, ' X2': 158, ' X3': 159, ' X4': 160, ' X5': 161, ' X6': 162, ' X7': 163, ' Yaris': 164, ' Yeti': 165, ' Yeti Outdoor': 166, ' Z3': 167, ' Z4': 168, ' Zafira': 169, ' Zafira Tourer': 170, ' i3': 171, ' i8': 172, '180': 173, '200': 174, '220': 175, '230': 176}\n",
            "{'Automatic': 0, 'Manual': 1, 'Other': 2, 'Semi-Auto': 3}\n",
            "{'Diesel': 0, 'Electric': 1, 'Hybrid': 2, 'Other': 3, 'Petrol': 4}\n",
            "{'Audi': 0, 'Bmw': 1, 'Ford': 2, 'Mercedes': 3, 'Skoda': 4, 'Toyota': 5, 'Vauxhall': 6, 'Volkswagen': 7}\n"
          ]
        }
      ]
    },
    {
      "cell_type": "code",
      "metadata": {
        "colab": {
          "base_uri": "https://localhost:8080/",
          "height": 423
        },
        "id": "Hdftj_wduPrd",
        "outputId": "eb1cf07d-6bf7-4701-e31b-e3bb8d30b4b2"
      },
      "source": [
        "df_copy"
      ],
      "execution_count": 26,
      "outputs": [
        {
          "output_type": "execute_result",
          "data": {
            "text/plain": [
              "      model  year    price  transmission  mileage  fuelType  tax   mpg  \\\n",
              "396      11  2015  14990.0             3    30530         0   30  64.2   \n",
              "441      11  2019  23995.0             3     2868         0  145  52.3   \n",
              "489     107  2017  35995.0             3    33165         0  200  47.9   \n",
              "490     104  2017  19995.0             1    27078         4  125  50.4   \n",
              "491     104  2017  19995.0             1    29874         4  125  50.4   \n",
              "...     ...   ...      ...           ...      ...       ...  ...   ...   \n",
              "6733     76  2011   5500.0             0    30000         4   20  58.9   \n",
              "6734    149  2011   4985.0             1    36154         4  125  50.4   \n",
              "6735    149  2012   4995.0             1    46000         0  125  57.6   \n",
              "6736    149  2011   3995.0             1    60700         4  125  50.4   \n",
              "6737    149  2011   4495.0             1    45128         4  125  50.4   \n",
              "\n",
              "      engineSize  Brand  \n",
              "396          2.0      0  \n",
              "441          1.6      0  \n",
              "489          3.0      0  \n",
              "490          1.4      0  \n",
              "491          1.4      0  \n",
              "...          ...    ...  \n",
              "6733         1.0      5  \n",
              "6734         1.3      5  \n",
              "6735         1.4      5  \n",
              "6736         1.3      5  \n",
              "6737         1.3      5  \n",
              "\n",
              "[99388 rows x 10 columns]"
            ],
            "text/html": [
              "\n",
              "  <div id=\"df-57229f22-81a5-46c0-8778-c7fe8feaed18\">\n",
              "    <div class=\"colab-df-container\">\n",
              "      <div>\n",
              "<style scoped>\n",
              "    .dataframe tbody tr th:only-of-type {\n",
              "        vertical-align: middle;\n",
              "    }\n",
              "\n",
              "    .dataframe tbody tr th {\n",
              "        vertical-align: top;\n",
              "    }\n",
              "\n",
              "    .dataframe thead th {\n",
              "        text-align: right;\n",
              "    }\n",
              "</style>\n",
              "<table border=\"1\" class=\"dataframe\">\n",
              "  <thead>\n",
              "    <tr style=\"text-align: right;\">\n",
              "      <th></th>\n",
              "      <th>model</th>\n",
              "      <th>year</th>\n",
              "      <th>price</th>\n",
              "      <th>transmission</th>\n",
              "      <th>mileage</th>\n",
              "      <th>fuelType</th>\n",
              "      <th>tax</th>\n",
              "      <th>mpg</th>\n",
              "      <th>engineSize</th>\n",
              "      <th>Brand</th>\n",
              "    </tr>\n",
              "  </thead>\n",
              "  <tbody>\n",
              "    <tr>\n",
              "      <th>396</th>\n",
              "      <td>11</td>\n",
              "      <td>2015</td>\n",
              "      <td>14990.0</td>\n",
              "      <td>3</td>\n",
              "      <td>30530</td>\n",
              "      <td>0</td>\n",
              "      <td>30</td>\n",
              "      <td>64.2</td>\n",
              "      <td>2.0</td>\n",
              "      <td>0</td>\n",
              "    </tr>\n",
              "    <tr>\n",
              "      <th>441</th>\n",
              "      <td>11</td>\n",
              "      <td>2019</td>\n",
              "      <td>23995.0</td>\n",
              "      <td>3</td>\n",
              "      <td>2868</td>\n",
              "      <td>0</td>\n",
              "      <td>145</td>\n",
              "      <td>52.3</td>\n",
              "      <td>1.6</td>\n",
              "      <td>0</td>\n",
              "    </tr>\n",
              "    <tr>\n",
              "      <th>489</th>\n",
              "      <td>107</td>\n",
              "      <td>2017</td>\n",
              "      <td>35995.0</td>\n",
              "      <td>3</td>\n",
              "      <td>33165</td>\n",
              "      <td>0</td>\n",
              "      <td>200</td>\n",
              "      <td>47.9</td>\n",
              "      <td>3.0</td>\n",
              "      <td>0</td>\n",
              "    </tr>\n",
              "    <tr>\n",
              "      <th>490</th>\n",
              "      <td>104</td>\n",
              "      <td>2017</td>\n",
              "      <td>19995.0</td>\n",
              "      <td>1</td>\n",
              "      <td>27078</td>\n",
              "      <td>4</td>\n",
              "      <td>125</td>\n",
              "      <td>50.4</td>\n",
              "      <td>1.4</td>\n",
              "      <td>0</td>\n",
              "    </tr>\n",
              "    <tr>\n",
              "      <th>491</th>\n",
              "      <td>104</td>\n",
              "      <td>2017</td>\n",
              "      <td>19995.0</td>\n",
              "      <td>1</td>\n",
              "      <td>29874</td>\n",
              "      <td>4</td>\n",
              "      <td>125</td>\n",
              "      <td>50.4</td>\n",
              "      <td>1.4</td>\n",
              "      <td>0</td>\n",
              "    </tr>\n",
              "    <tr>\n",
              "      <th>...</th>\n",
              "      <td>...</td>\n",
              "      <td>...</td>\n",
              "      <td>...</td>\n",
              "      <td>...</td>\n",
              "      <td>...</td>\n",
              "      <td>...</td>\n",
              "      <td>...</td>\n",
              "      <td>...</td>\n",
              "      <td>...</td>\n",
              "      <td>...</td>\n",
              "    </tr>\n",
              "    <tr>\n",
              "      <th>6733</th>\n",
              "      <td>76</td>\n",
              "      <td>2011</td>\n",
              "      <td>5500.0</td>\n",
              "      <td>0</td>\n",
              "      <td>30000</td>\n",
              "      <td>4</td>\n",
              "      <td>20</td>\n",
              "      <td>58.9</td>\n",
              "      <td>1.0</td>\n",
              "      <td>5</td>\n",
              "    </tr>\n",
              "    <tr>\n",
              "      <th>6734</th>\n",
              "      <td>149</td>\n",
              "      <td>2011</td>\n",
              "      <td>4985.0</td>\n",
              "      <td>1</td>\n",
              "      <td>36154</td>\n",
              "      <td>4</td>\n",
              "      <td>125</td>\n",
              "      <td>50.4</td>\n",
              "      <td>1.3</td>\n",
              "      <td>5</td>\n",
              "    </tr>\n",
              "    <tr>\n",
              "      <th>6735</th>\n",
              "      <td>149</td>\n",
              "      <td>2012</td>\n",
              "      <td>4995.0</td>\n",
              "      <td>1</td>\n",
              "      <td>46000</td>\n",
              "      <td>0</td>\n",
              "      <td>125</td>\n",
              "      <td>57.6</td>\n",
              "      <td>1.4</td>\n",
              "      <td>5</td>\n",
              "    </tr>\n",
              "    <tr>\n",
              "      <th>6736</th>\n",
              "      <td>149</td>\n",
              "      <td>2011</td>\n",
              "      <td>3995.0</td>\n",
              "      <td>1</td>\n",
              "      <td>60700</td>\n",
              "      <td>4</td>\n",
              "      <td>125</td>\n",
              "      <td>50.4</td>\n",
              "      <td>1.3</td>\n",
              "      <td>5</td>\n",
              "    </tr>\n",
              "    <tr>\n",
              "      <th>6737</th>\n",
              "      <td>149</td>\n",
              "      <td>2011</td>\n",
              "      <td>4495.0</td>\n",
              "      <td>1</td>\n",
              "      <td>45128</td>\n",
              "      <td>4</td>\n",
              "      <td>125</td>\n",
              "      <td>50.4</td>\n",
              "      <td>1.3</td>\n",
              "      <td>5</td>\n",
              "    </tr>\n",
              "  </tbody>\n",
              "</table>\n",
              "<p>99388 rows × 10 columns</p>\n",
              "</div>\n",
              "      <button class=\"colab-df-convert\" onclick=\"convertToInteractive('df-57229f22-81a5-46c0-8778-c7fe8feaed18')\"\n",
              "              title=\"Convert this dataframe to an interactive table.\"\n",
              "              style=\"display:none;\">\n",
              "        \n",
              "  <svg xmlns=\"http://www.w3.org/2000/svg\" height=\"24px\"viewBox=\"0 0 24 24\"\n",
              "       width=\"24px\">\n",
              "    <path d=\"M0 0h24v24H0V0z\" fill=\"none\"/>\n",
              "    <path d=\"M18.56 5.44l.94 2.06.94-2.06 2.06-.94-2.06-.94-.94-2.06-.94 2.06-2.06.94zm-11 1L8.5 8.5l.94-2.06 2.06-.94-2.06-.94L8.5 2.5l-.94 2.06-2.06.94zm10 10l.94 2.06.94-2.06 2.06-.94-2.06-.94-.94-2.06-.94 2.06-2.06.94z\"/><path d=\"M17.41 7.96l-1.37-1.37c-.4-.4-.92-.59-1.43-.59-.52 0-1.04.2-1.43.59L10.3 9.45l-7.72 7.72c-.78.78-.78 2.05 0 2.83L4 21.41c.39.39.9.59 1.41.59.51 0 1.02-.2 1.41-.59l7.78-7.78 2.81-2.81c.8-.78.8-2.07 0-2.86zM5.41 20L4 18.59l7.72-7.72 1.47 1.35L5.41 20z\"/>\n",
              "  </svg>\n",
              "      </button>\n",
              "      \n",
              "  <style>\n",
              "    .colab-df-container {\n",
              "      display:flex;\n",
              "      flex-wrap:wrap;\n",
              "      gap: 12px;\n",
              "    }\n",
              "\n",
              "    .colab-df-convert {\n",
              "      background-color: #E8F0FE;\n",
              "      border: none;\n",
              "      border-radius: 50%;\n",
              "      cursor: pointer;\n",
              "      display: none;\n",
              "      fill: #1967D2;\n",
              "      height: 32px;\n",
              "      padding: 0 0 0 0;\n",
              "      width: 32px;\n",
              "    }\n",
              "\n",
              "    .colab-df-convert:hover {\n",
              "      background-color: #E2EBFA;\n",
              "      box-shadow: 0px 1px 2px rgba(60, 64, 67, 0.3), 0px 1px 3px 1px rgba(60, 64, 67, 0.15);\n",
              "      fill: #174EA6;\n",
              "    }\n",
              "\n",
              "    [theme=dark] .colab-df-convert {\n",
              "      background-color: #3B4455;\n",
              "      fill: #D2E3FC;\n",
              "    }\n",
              "\n",
              "    [theme=dark] .colab-df-convert:hover {\n",
              "      background-color: #434B5C;\n",
              "      box-shadow: 0px 1px 3px 1px rgba(0, 0, 0, 0.15);\n",
              "      filter: drop-shadow(0px 1px 2px rgba(0, 0, 0, 0.3));\n",
              "      fill: #FFFFFF;\n",
              "    }\n",
              "  </style>\n",
              "\n",
              "      <script>\n",
              "        const buttonEl =\n",
              "          document.querySelector('#df-57229f22-81a5-46c0-8778-c7fe8feaed18 button.colab-df-convert');\n",
              "        buttonEl.style.display =\n",
              "          google.colab.kernel.accessAllowed ? 'block' : 'none';\n",
              "\n",
              "        async function convertToInteractive(key) {\n",
              "          const element = document.querySelector('#df-57229f22-81a5-46c0-8778-c7fe8feaed18');\n",
              "          const dataTable =\n",
              "            await google.colab.kernel.invokeFunction('convertToInteractive',\n",
              "                                                     [key], {});\n",
              "          if (!dataTable) return;\n",
              "\n",
              "          const docLinkHtml = 'Like what you see? Visit the ' +\n",
              "            '<a target=\"_blank\" href=https://colab.research.google.com/notebooks/data_table.ipynb>data table notebook</a>'\n",
              "            + ' to learn more about interactive tables.';\n",
              "          element.innerHTML = '';\n",
              "          dataTable['output_type'] = 'display_data';\n",
              "          await google.colab.output.renderOutput(dataTable, element);\n",
              "          const docLink = document.createElement('div');\n",
              "          docLink.innerHTML = docLinkHtml;\n",
              "          element.appendChild(docLink);\n",
              "        }\n",
              "      </script>\n",
              "    </div>\n",
              "  </div>\n",
              "  "
            ]
          },
          "metadata": {},
          "execution_count": 26
        }
      ]
    },
    {
      "cell_type": "code",
      "metadata": {
        "colab": {
          "base_uri": "https://localhost:8080/",
          "height": 613
        },
        "id": "DM370712vbdU",
        "outputId": "c3e9e5ca-bfa6-40c3-a713-cd7d8b5b0fe9"
      },
      "source": [
        "plt.figure(figsize=(15,10))\n",
        "sns.heatmap(df_copy.corr(), annot = True, cmap = \"YlOrBr\")"
      ],
      "execution_count": 27,
      "outputs": [
        {
          "output_type": "execute_result",
          "data": {
            "text/plain": [
              "<matplotlib.axes._subplots.AxesSubplot at 0x7fdf83796690>"
            ]
          },
          "metadata": {},
          "execution_count": 27
        },
        {
          "output_type": "display_data",
          "data": {
            "text/plain": [
              "<Figure size 1080x720 with 2 Axes>"
            ],
            "image/png": "[encoded data removed]"
          },
          "metadata": {
            "needs_background": "light"
          }
        }
      ]
    },
    {
      "cell_type": "code",
      "metadata": {
        "colab": {
          "base_uri": "https://localhost:8080/"
        },
        "id": "QnRtIVAVvli6",
        "outputId": "2c825e19-5323-45bf-8508-10c7f8abe09b"
      },
      "source": [
        "input_columns = df_copy.columns.values.tolist()\n",
        "input_columns.remove('price')\n",
        "\n",
        "X = df_copy[input_columns]\n",
        "Y = df_copy['price']\n",
        "\n",
        "print(f\"X (features):\\n\\n{X}\")\n",
        "\n",
        "print(f\"\\nY (target):\\n\\n{Y}\")"
      ],
      "execution_count": 28,
      "outputs": [
        {
          "output_type": "stream",
          "name": "stdout",
          "text": [
            "X (features):\n",
            "\n",
            "      model  year  transmission  mileage  fuelType  tax   mpg  engineSize  \\\n",
            "396      11  2015             3    30530         0   30  64.2         2.0   \n",
            "441      11  2019             3     2868         0  145  52.3         1.6   \n",
            "489     107  2017             3    33165         0  200  47.9         3.0   \n",
            "490     104  2017             1    27078         4  125  50.4         1.4   \n",
            "491     104  2017             1    29874         4  125  50.4         1.4   \n",
            "...     ...   ...           ...      ...       ...  ...   ...         ...   \n",
            "6733     76  2011             0    30000         4   20  58.9         1.0   \n",
            "6734    149  2011             1    36154         4  125  50.4         1.3   \n",
            "6735    149  2012             1    46000         0  125  57.6         1.4   \n",
            "6736    149  2011             1    60700         4  125  50.4         1.3   \n",
            "6737    149  2011             1    45128         4  125  50.4         1.3   \n",
            "\n",
            "      Brand  \n",
            "396       0  \n",
            "441       0  \n",
            "489       0  \n",
            "490       0  \n",
            "491       0  \n",
            "...     ...  \n",
            "6733      5  \n",
            "6734      5  \n",
            "6735      5  \n",
            "6736      5  \n",
            "6737      5  \n",
            "\n",
            "[99388 rows x 9 columns]\n",
            "\n",
            "Y (target):\n",
            "\n",
            "396     14990.0\n",
            "441     23995.0\n",
            "489     35995.0\n",
            "490     19995.0\n",
            "491     19995.0\n",
            "         ...   \n",
            "6733     5500.0\n",
            "6734     4985.0\n",
            "6735     4995.0\n",
            "6736     3995.0\n",
            "6737     4495.0\n",
            "Name: price, Length: 99388, dtype: float64\n"
          ]
        }
      ]
    },
    {
      "cell_type": "markdown",
      "source": [
        "## Modelling"
      ],
      "metadata": {
        "id": "9lUDM0pG4wXy"
      }
    },
    {
      "cell_type": "code",
      "metadata": {
        "id": "vk8aOxCY_EbZ"
      },
      "source": [
        "x_train, x_test, y_train, y_test = train_test_split(X, Y, test_size = 0.3, random_state = 42)"
      ],
      "execution_count": 29,
      "outputs": []
    },
    {
      "cell_type": "code",
      "metadata": {
        "id": "XVZyNxAq_XLa"
      },
      "source": [
        "# This funtion will calculate below mentioned factors of all regression metrics like:\n",
        "# 1. R² or Coefficient of Determination  2. Mean Squared Error(MSE)  3. Root-Mean-Squared-Error(RMSE) 4. Mean-Absolute-Error(MAE).\n",
        "\n",
        "def regression_metrics(pred_model, x_train, x_test, y_train, y_test):\n",
        "    # Get predicted values on x_test\n",
        "    y_pred = pred_model.predict(x_test)\n",
        "\n",
        "    #R² calculation\n",
        "    r2 = metrics.r2_score(y_pred=y_pred, y_true=y_test)\n",
        "    print(f\"R²\\t: {round(r2, 4)}\")\n",
        "    \n",
        "    #MSE and RMSE calculation\n",
        "    mean_sqd_err = metrics.mean_squared_error(y_pred=y_pred, y_true=y_test, squared=True)\n",
        "    root_mean_sqd_err = metrics.mean_squared_error(y_pred=y_pred, y_true=y_test, squared=False)\n",
        "    print(f\"MSE\\t: {round(mean_sqd_err, 2)}\")\n",
        "    print(f\"RMSE\\t: {round(root_mean_sqd_err, 2)}\")\n",
        "\n",
        "    #5 MAE calculation\n",
        "    mean_abs_err = metrics.mean_absolute_error(y_pred=y_pred, y_true=y_test)\n",
        "    print(f\"MAE\\t: {round(mean_abs_err, 2)}\")\n",
        "    \n",
        "    #Accuracy calculation of the model\n",
        "    train_accuracy = round(pred_model.score(x_train, y_train)*100, 2)\n",
        "    test_accuracy = round(pred_model.score(x_test, y_test)*100, 2)\n",
        "\n",
        "    return (train_accuracy, test_accuracy)"
      ],
      "execution_count": 30,
      "outputs": []
    },
    {
      "cell_type": "code",
      "metadata": {
        "id": "n8aJ917M_9xN"
      },
      "source": [
        "# Types of algorithms we will be trying for Model Fitting\n",
        "\n",
        "algorithms_lst = ['Random Forest', 'Decision Trees', 'Linear Regression',  'Bagging', 'XGBoost']\n",
        "accuracy_columns = ['Training Accuracy', 'Testing Accuracy']\n",
        "\n",
        "accuracy_df = pd.DataFrame(columns=accuracy_columns, index=algorithms_lst)\n",
        "accuracy_df.index.name='Algorithm'"
      ],
      "execution_count": 31,
      "outputs": []
    },
    {
      "cell_type": "code",
      "metadata": {
        "colab": {
          "base_uri": "https://localhost:8080/"
        },
        "id": "bctiSt5Z__2v",
        "outputId": "4cbee331-88f5-47d9-9cda-aec0e3ead3b2"
      },
      "source": [
        "# Using Linear Regression\n",
        "linear_regression = LinearRegression()\n",
        "linear_regression.fit(x_train, y_train)\n",
        "print(\"\\t~~~~~~~~~~ Linear Regression ~~~~~~~~~~\")\n",
        "linreg_accuracy = regression_metrics(linear_regression, x_train, x_test, y_train, y_test)\n",
        "\n",
        "accuracy_df.loc['Linear Regression'] = linreg_accuracy"
      ],
      "execution_count": 32,
      "outputs": [
        {
          "output_type": "stream",
          "name": "stdout",
          "text": [
            "\t~~~~~~~~~~ Linear Regression ~~~~~~~~~~\n",
            "R²\t: 0.7345\n",
            "MSE\t: 28312561.54\n",
            "RMSE\t: 5320.95\n",
            "MAE\t: 3472.53\n"
          ]
        }
      ]
    },
    {
      "cell_type": "code",
      "metadata": {
        "colab": {
          "base_uri": "https://localhost:8080/"
        },
        "id": "IKvVWz7cABv-",
        "outputId": "e8c79174-b50e-4bea-863c-8967071dd84a"
      },
      "source": [
        "# Using Decision Tree Regressor\n",
        "dtree_regressor = DecisionTreeRegressor()\n",
        "dtree_regressor.fit(x_train, y_train)\n",
        "\n",
        "print(\"\\t~~~~~~~~~~ Decision Tree Regressor ~~~~~~~~~~\")\n",
        "dtree_accuracy = regression_metrics(dtree_regressor, x_train, x_test, y_train, y_test)\n",
        "\n",
        "accuracy_df.loc['Decision Trees'] = dtree_accuracy"
      ],
      "execution_count": 33,
      "outputs": [
        {
          "output_type": "stream",
          "name": "stdout",
          "text": [
            "\t~~~~~~~~~~ Decision Tree Regressor ~~~~~~~~~~\n",
            "R²\t: 0.9405\n",
            "MSE\t: 6342328.15\n",
            "RMSE\t: 2518.4\n",
            "MAE\t: 1254.27\n"
          ]
        }
      ]
    },
    {
      "cell_type": "code",
      "metadata": {
        "colab": {
          "base_uri": "https://localhost:8080/"
        },
        "id": "ZgDAGuz5AFwi",
        "outputId": "dd9e117d-f3bd-401a-e9df-6f78f9707208"
      },
      "source": [
        "# Using Bagging Regressor\n",
        "bag_regressor = BaggingRegressor()\n",
        "bag_regressor.fit(x_train, y_train)\n",
        "\n",
        "print(\"\\t~~~~~~~~~~ Bagging Regressor ~~~~~~~~~~\")\n",
        "bag_accuracy = regression_metrics(bag_regressor, x_train, x_test, y_train, y_test)\n",
        "\n",
        "accuracy_df.loc['Bagging'] = bag_accuracy"
      ],
      "execution_count": 34,
      "outputs": [
        {
          "output_type": "stream",
          "name": "stdout",
          "text": [
            "\t~~~~~~~~~~ Bagging Regressor ~~~~~~~~~~\n",
            "R²\t: 0.9595\n",
            "MSE\t: 4316984.65\n",
            "RMSE\t: 2077.74\n",
            "MAE\t: 1131.91\n"
          ]
        }
      ]
    },
    {
      "cell_type": "code",
      "metadata": {
        "colab": {
          "base_uri": "https://localhost:8080/"
        },
        "id": "hqkY-gSkBvMa",
        "outputId": "f9d135f2-99dd-4998-e336-9a429b57858d"
      },
      "source": [
        "# Using Random Forest Regressor\n",
        "rf_regressor = RandomForestRegressor(random_state=42)\n",
        "rf_regressor.fit(x_train, y_train)\n",
        "\n",
        "print(\"\\t~~~~~~~~~~ Random Forest Regressor ~~~~~~~~~~\")\n",
        "rf_accuracy = regression_metrics(rf_regressor, x_train, x_test, y_train, y_test)\n",
        "\n",
        "accuracy_df.loc['Random Forest'] = rf_accuracy"
      ],
      "execution_count": 35,
      "outputs": [
        {
          "output_type": "stream",
          "name": "stdout",
          "text": [
            "\t~~~~~~~~~~ Random Forest Regressor ~~~~~~~~~~\n",
            "R²\t: 0.9622\n",
            "MSE\t: 4033740.75\n",
            "RMSE\t: 2008.42\n",
            "MAE\t: 1083.4\n"
          ]
        }
      ]
    },
    {
      "cell_type": "code",
      "metadata": {
        "colab": {
          "base_uri": "https://localhost:8080/"
        },
        "id": "YsqrodktAJ0H",
        "outputId": "6d4a2758-936a-4786-adb2-34f2f3ab98fd"
      },
      "source": [
        "# Using XGBoost Regressor\n",
        "xgb_regressor = xgb.XGBRegressor() \n",
        "xgb_regressor.fit(x_train, y_train)\n",
        "\n",
        "print(\"\\t~~~~~~~~~~ XGBoost Regressor ~~~~~~~~~~\")\n",
        "xgb_accuracy = regression_metrics(xgb_regressor, x_train, x_test, y_train, y_test)\n",
        "\n",
        "accuracy_df.loc['XGBoost'] = xgb_accuracy"
      ],
      "execution_count": 36,
      "outputs": [
        {
          "output_type": "stream",
          "name": "stdout",
          "text": [
            "[22:59:39] WARNING: /workspace/src/objective/regression_obj.cu:152: reg:linear is now deprecated in favor of reg:squarederror.\n",
            "\t~~~~~~~~~~ XGBoost Regressor ~~~~~~~~~~\n",
            "R²\t: 0.9028\n",
            "MSE\t: 10363378.04\n",
            "RMSE\t: 3219.22\n",
            "MAE\t: 2074.26\n"
          ]
        }
      ]
    },
    {
      "cell_type": "markdown",
      "source": [
        "### Model accuracies"
      ],
      "metadata": {
        "id": "KWwJICpX5ehs"
      }
    },
    {
      "cell_type": "code",
      "metadata": {
        "colab": {
          "base_uri": "https://localhost:8080/",
          "height": 237
        },
        "id": "BJ885_jEBnFo",
        "outputId": "bca5415c-baec-4098-e6de-71c5f3d4ba7a"
      },
      "source": [
        "accuracy_df.astype(str) + '%'"
      ],
      "execution_count": 42,
      "outputs": [
        {
          "output_type": "execute_result",
          "data": {
            "text/plain": [
              "                  Training Accuracy Testing Accuracy\n",
              "Algorithm                                           \n",
              "Random Forest                99.54%           96.22%\n",
              "Decision Trees               99.95%           94.05%\n",
              "Linear Regression            74.02%           73.45%\n",
              "Bagging                      99.34%           95.95%\n",
              "XGBoost                       91.5%           90.28%"
            ],
            "text/html": [
              "\n",
              "  <div id=\"df-f12c1698-bb38-4b6e-8ec1-85c3862e43b1\">\n",
              "    <div class=\"colab-df-container\">\n",
              "      <div>\n",
              "<style scoped>\n",
              "    .dataframe tbody tr th:only-of-type {\n",
              "        vertical-align: middle;\n",
              "    }\n",
              "\n",
              "    .dataframe tbody tr th {\n",
              "        vertical-align: top;\n",
              "    }\n",
              "\n",
              "    .dataframe thead th {\n",
              "        text-align: right;\n",
              "    }\n",
              "</style>\n",
              "<table border=\"1\" class=\"dataframe\">\n",
              "  <thead>\n",
              "    <tr style=\"text-align: right;\">\n",
              "      <th></th>\n",
              "      <th>Training Accuracy</th>\n",
              "      <th>Testing Accuracy</th>\n",
              "    </tr>\n",
              "    <tr>\n",
              "      <th>Algorithm</th>\n",
              "      <th></th>\n",
              "      <th></th>\n",
              "    </tr>\n",
              "  </thead>\n",
              "  <tbody>\n",
              "    <tr>\n",
              "      <th>Random Forest</th>\n",
              "      <td>99.54%</td>\n",
              "      <td>96.22%</td>\n",
              "    </tr>\n",
              "    <tr>\n",
              "      <th>Decision Trees</th>\n",
              "      <td>99.95%</td>\n",
              "      <td>94.05%</td>\n",
              "    </tr>\n",
              "    <tr>\n",
              "      <th>Linear Regression</th>\n",
              "      <td>74.02%</td>\n",
              "      <td>73.45%</td>\n",
              "    </tr>\n",
              "    <tr>\n",
              "      <th>Bagging</th>\n",
              "      <td>99.34%</td>\n",
              "      <td>95.95%</td>\n",
              "    </tr>\n",
              "    <tr>\n",
              "      <th>XGBoost</th>\n",
              "      <td>91.5%</td>\n",
              "      <td>90.28%</td>\n",
              "    </tr>\n",
              "  </tbody>\n",
              "</table>\n",
              "</div>\n",
              "      <button class=\"colab-df-convert\" onclick=\"convertToInteractive('df-f12c1698-bb38-4b6e-8ec1-85c3862e43b1')\"\n",
              "              title=\"Convert this dataframe to an interactive table.\"\n",
              "              style=\"display:none;\">\n",
              "        \n",
              "  <svg xmlns=\"http://www.w3.org/2000/svg\" height=\"24px\"viewBox=\"0 0 24 24\"\n",
              "       width=\"24px\">\n",
              "    <path d=\"M0 0h24v24H0V0z\" fill=\"none\"/>\n",
              "    <path d=\"M18.56 5.44l.94 2.06.94-2.06 2.06-.94-2.06-.94-.94-2.06-.94 2.06-2.06.94zm-11 1L8.5 8.5l.94-2.06 2.06-.94-2.06-.94L8.5 2.5l-.94 2.06-2.06.94zm10 10l.94 2.06.94-2.06 2.06-.94-2.06-.94-.94-2.06-.94 2.06-2.06.94z\"/><path d=\"M17.41 7.96l-1.37-1.37c-.4-.4-.92-.59-1.43-.59-.52 0-1.04.2-1.43.59L10.3 9.45l-7.72 7.72c-.78.78-.78 2.05 0 2.83L4 21.41c.39.39.9.59 1.41.59.51 0 1.02-.2 1.41-.59l7.78-7.78 2.81-2.81c.8-.78.8-2.07 0-2.86zM5.41 20L4 18.59l7.72-7.72 1.47 1.35L5.41 20z\"/>\n",
              "  </svg>\n",
              "      </button>\n",
              "      \n",
              "  <style>\n",
              "    .colab-df-container {\n",
              "      display:flex;\n",
              "      flex-wrap:wrap;\n",
              "      gap: 12px;\n",
              "    }\n",
              "\n",
              "    .colab-df-convert {\n",
              "      background-color: #E8F0FE;\n",
              "      border: none;\n",
              "      border-radius: 50%;\n",
              "      cursor: pointer;\n",
              "      display: none;\n",
              "      fill: #1967D2;\n",
              "      height: 32px;\n",
              "      padding: 0 0 0 0;\n",
              "      width: 32px;\n",
              "    }\n",
              "\n",
              "    .colab-df-convert:hover {\n",
              "      background-color: #E2EBFA;\n",
              "      box-shadow: 0px 1px 2px rgba(60, 64, 67, 0.3), 0px 1px 3px 1px rgba(60, 64, 67, 0.15);\n",
              "      fill: #174EA6;\n",
              "    }\n",
              "\n",
              "    [theme=dark] .colab-df-convert {\n",
              "      background-color: #3B4455;\n",
              "      fill: #D2E3FC;\n",
              "    }\n",
              "\n",
              "    [theme=dark] .colab-df-convert:hover {\n",
              "      background-color: #434B5C;\n",
              "      box-shadow: 0px 1px 3px 1px rgba(0, 0, 0, 0.15);\n",
              "      filter: drop-shadow(0px 1px 2px rgba(0, 0, 0, 0.3));\n",
              "      fill: #FFFFFF;\n",
              "    }\n",
              "  </style>\n",
              "\n",
              "      <script>\n",
              "        const buttonEl =\n",
              "          document.querySelector('#df-f12c1698-bb38-4b6e-8ec1-85c3862e43b1 button.colab-df-convert');\n",
              "        buttonEl.style.display =\n",
              "          google.colab.kernel.accessAllowed ? 'block' : 'none';\n",
              "\n",
              "        async function convertToInteractive(key) {\n",
              "          const element = document.querySelector('#df-f12c1698-bb38-4b6e-8ec1-85c3862e43b1');\n",
              "          const dataTable =\n",
              "            await google.colab.kernel.invokeFunction('convertToInteractive',\n",
              "                                                     [key], {});\n",
              "          if (!dataTable) return;\n",
              "\n",
              "          const docLinkHtml = 'Like what you see? Visit the ' +\n",
              "            '<a target=\"_blank\" href=https://colab.research.google.com/notebooks/data_table.ipynb>data table notebook</a>'\n",
              "            + ' to learn more about interactive tables.';\n",
              "          element.innerHTML = '';\n",
              "          dataTable['output_type'] = 'display_data';\n",
              "          await google.colab.output.renderOutput(dataTable, element);\n",
              "          const docLink = document.createElement('div');\n",
              "          docLink.innerHTML = docLinkHtml;\n",
              "          element.appendChild(docLink);\n",
              "        }\n",
              "      </script>\n",
              "    </div>\n",
              "  </div>\n",
              "  "
            ]
          },
          "metadata": {},
          "execution_count": 42
        }
      ]
    },
    {
      "cell_type": "code",
      "source": [
        "acc_array = accuracy_df['Testing Accuracy'].tolist()"
      ],
      "metadata": {
        "id": "XDkpbgEMNZd_"
      },
      "execution_count": 46,
      "outputs": []
    },
    {
      "cell_type": "code",
      "source": [
        "fig = plt.figure(figsize=(10,7))\n",
        "ax = fig.add_axes([0,0,1,1])\n",
        "ax.bar(algorithms_lst,accuracy_df['Testing Accuracy'], color=\"skyBlue\")\n",
        "for index,data in enumerate(acc_array):\n",
        "    plt.text(x = index, y = data+1, s = f\"{data}\", fontdict=dict(fontsize=14))\n",
        "ax.set_title(\"Accuracies by Algorithm\", pad=12)\n",
        "ax.set_xlabel('Algorithm')\n",
        "ax.set_ylabel('Accuracy')\n",
        "plt.show()"
      ],
      "metadata": {
        "colab": {
          "base_uri": "https://localhost:8080/",
          "height": 588
        },
        "id": "cqocrvaZLPNR",
        "outputId": "fece3b78-62ad-46c2-f55c-93c39f4e7d1c"
      },
      "execution_count": 47,
      "outputs": [
        {
          "output_type": "display_data",
          "data": {
            "text/plain": [
              "<Figure size 720x504 with 1 Axes>"
            ],
            "image/png": "[encoded data removed]"
          },
          "metadata": {
            "needs_background": "light"
          }
        }
      ]
    },
    {
      "cell_type": "markdown",
      "source": [
        "## HyperParameter Tuning\n",
        "\n",
        "* We have indentified that RandomForest Regressor has best accuracy for base model.\n",
        "* Now we will find the best parameters for RandomForest\n",
        "* Using GridSearchCV and RandomizedSearchCV"
      ],
      "metadata": {
        "id": "JXEtjSmR5rbu"
      }
    },
    {
      "cell_type": "markdown",
      "source": [
        "### GridSearchCV"
      ],
      "metadata": {
        "id": "IhzL6Nrl6Jrh"
      }
    },
    {
      "cell_type": "code",
      "metadata": {
        "id": "pFxYY4tZZJDU"
      },
      "source": [
        "param_grid = {'n_estimators': [80, 100, 120],\n",
        "               'max_features': ['auto', 'sqrt'],\n",
        "               'max_depth': [2, 3, 4, None],\n",
        "               'min_samples_leaf': [1, 2, 4],\n",
        "               'min_samples_split': [2, 5, 10],\n",
        "               'bootstrap': [True, False],\n",
        "            }\n",
        "# We will first create a base model\n",
        "rf_grid = RandomForestRegressor()\n",
        "# Now, we will initilize the grid search model\n",
        "grid_search = GridSearchCV(estimator = rf_grid, param_grid = param_grid, \n",
        "                          cv = 3, n_jobs = -1)"
      ],
      "execution_count": 48,
      "outputs": []
    },
    {
      "cell_type": "code",
      "metadata": {
        "id": "DIP7URCZZOXD"
      },
      "source": [
        "#Fitting the model with training data and finding the best parmas\n",
        "grid_search.fit(x_train, y_train)\n",
        "grid_search.best_params_"
      ],
      "execution_count": null,
      "outputs": []
    },
    {
      "cell_type": "code",
      "metadata": {
        "id": "AnzJ0EYTZ8wF"
      },
      "source": [
        "rf_grid_new = RandomForestRegressor(bootstrap = False,\n",
        " max_depth= None,\n",
        " max_features= 'sqrt',\n",
        " min_samples_leaf= 1,\n",
        " min_samples_split= 5,\n",
        " n_estimators= 120)"
      ],
      "execution_count": 51,
      "outputs": []
    },
    {
      "cell_type": "code",
      "metadata": {
        "colab": {
          "base_uri": "https://localhost:8080/"
        },
        "id": "7Aft9WvODj_N",
        "outputId": "bca5c61b-f11b-4256-ba4d-389551de3bd0"
      },
      "source": [
        "rf_grid_new.fit(x_train, y_train)"
      ],
      "execution_count": 52,
      "outputs": [
        {
          "output_type": "execute_result",
          "data": {
            "text/plain": [
              "RandomForestRegressor(bootstrap=False, max_features='sqrt', min_samples_split=5,\n",
              "                      n_estimators=120)"
            ]
          },
          "metadata": {},
          "execution_count": 52
        }
      ]
    },
    {
      "cell_type": "code",
      "metadata": {
        "id": "JYs9Iw5rD45y"
      },
      "source": [
        "train_accuracy_grid = round(rf_grid_new.score(x_train, y_train)*100, 2)\n",
        "test_accuracy_grid = round(rf_grid_new.score(x_test, y_test)*100, 2)"
      ],
      "execution_count": 53,
      "outputs": []
    },
    {
      "cell_type": "code",
      "metadata": {
        "colab": {
          "base_uri": "https://localhost:8080/"
        },
        "id": "Z2tgPlZ5ECDg",
        "outputId": "80d74493-a967-48ea-bd0f-a69890e21c03"
      },
      "source": [
        "print(f'Accuracies of RandomForestRegressor with best_params from GridSearchCV\\n\\nTrain accuracy = {train_accuracy_grid}\\nTest accuracy = {test_accuracy_grid}')"
      ],
      "execution_count": 54,
      "outputs": [
        {
          "output_type": "stream",
          "name": "stdout",
          "text": [
            "Accuracies of RandomForestRegressor with best_params from GridSearchCV\n",
            "\n",
            "Train accuracy = 99.6\n",
            "Test accuracy = 96.58\n"
          ]
        }
      ]
    },
    {
      "cell_type": "markdown",
      "source": [
        "### RandomizedSearchCV"
      ],
      "metadata": {
        "id": "ximK05V_6Wes"
      }
    },
    {
      "cell_type": "code",
      "source": [
        "#We are defining the parameters for RandomForestRegressor which will be used to find the best model\n",
        "random_grid = {'n_estimators': [100, 200, 400, 600, 800],\n",
        "               'max_features': [8, 'auto', 'sqrt'],\n",
        "               'max_depth': [2, 3, 4, 5, 10, None],\n",
        "               'min_samples_leaf': [1, 2, 4],\n",
        "               'min_samples_split': [2, 5, 10],\n",
        "               'bootstrap': [True, False],\n",
        "              }\n"
      ],
      "metadata": {
        "id": "YmYvNW7h_78V"
      },
      "execution_count": 55,
      "outputs": []
    },
    {
      "cell_type": "code",
      "source": [
        "# We will create a base_model first which needs to be tuned\n",
        "rf = RandomForestRegressor()\n",
        "# We will set cross validation to 3 and will use all the cores\n",
        "rf_random = RandomizedSearchCV(estimator = rf, param_distributions = random_grid, n_iter = 100, cv = 3, verbose=2, random_state=42, n_jobs = -1)"
      ],
      "metadata": {
        "id": "bhiMrbtFCMEi"
      },
      "execution_count": 56,
      "outputs": []
    },
    {
      "cell_type": "code",
      "source": [
        "#We will fit the Randomized search model now\n",
        "rf_random.fit(x_train, y_train)"
      ],
      "metadata": {
        "id": "gKWTrcpjCWou"
      },
      "execution_count": null,
      "outputs": []
    },
    {
      "cell_type": "code",
      "source": [
        "#Lets check for the best params of the model\n",
        "rf_random.best_params_"
      ],
      "metadata": {
        "id": "eoolYr7MChkB"
      },
      "execution_count": null,
      "outputs": []
    },
    {
      "cell_type": "code",
      "source": [
        "#We will now initialize the RandomForestRegressor with tuned paramters\n",
        "rf_new = RandomForestRegressor(bootstrap= False,\n",
        " max_depth=None,\n",
        " max_features= 'sqrt',\n",
        " min_samples_leaf= 2,\n",
        " min_samples_split= 2,\n",
        " n_estimators= 100)"
      ],
      "metadata": {
        "id": "iWvEXixjYJ3m"
      },
      "execution_count": 59,
      "outputs": []
    },
    {
      "cell_type": "code",
      "source": [
        "#Fitting the models with traing data\n",
        "rf_new.fit(x_train, y_train)"
      ],
      "metadata": {
        "colab": {
          "base_uri": "https://localhost:8080/"
        },
        "id": "Pvmii7jHYYvf",
        "outputId": "066c7295-8deb-49b1-daeb-0ad380a7dfd0"
      },
      "execution_count": 60,
      "outputs": [
        {
          "output_type": "execute_result",
          "data": {
            "text/plain": [
              "RandomForestRegressor(bootstrap=False, max_features='sqrt', min_samples_leaf=2)"
            ]
          },
          "metadata": {},
          "execution_count": 60
        }
      ]
    },
    {
      "cell_type": "code",
      "source": [
        "#Checking the train and test accuracy of the models\n",
        "train_accuracy1 = round(rf_new.score(x_train, y_train)*100, 2)\n",
        "test_accuracy1 = round(rf_new.score(x_test, y_test)*100, 2)"
      ],
      "metadata": {
        "id": "H6yUgv2qYdO-"
      },
      "execution_count": 61,
      "outputs": []
    },
    {
      "cell_type": "code",
      "source": [
        "print(f'Accuracies of Hypertuned RandomForestRegressor\\n\\nTrain accuracy = {train_accuracy1}\\nTest accuracy = {test_accuracy1}')"
      ],
      "metadata": {
        "colab": {
          "base_uri": "https://localhost:8080/"
        },
        "id": "2ox36Z9mYoey",
        "outputId": "5eca6529-517c-4104-8b38-a720c128f3ce"
      },
      "execution_count": 62,
      "outputs": [
        {
          "output_type": "stream",
          "name": "stdout",
          "text": [
            "Accuracies of Hypertuned RandomForestRegressor\n",
            "\n",
            "Train accuracy = 99.21\n",
            "Test accuracy = 96.34\n"
          ]
        }
      ]
    },
    {
      "cell_type": "markdown",
      "source": [
        "## Prediction Model"
      ],
      "metadata": {
        "id": "E8qLkmDb6eLn"
      }
    },
    {
      "cell_type": "markdown",
      "source": [
        "### Model Definition"
      ],
      "metadata": {
        "id": "1LF9J16l6ocV"
      }
    },
    {
      "cell_type": "code",
      "source": [
        "#Now since we have found that the RandomForest regressor has best testing accuracy\n",
        "#Using the best_params identified using GridSearchCV will be used for intilization\n",
        "#RandomForestRegressor\n",
        "\n",
        "rf_for_prediction = RandomForestRegressor(bootstrap = False,\n",
        " max_depth= None,\n",
        " max_features= 'sqrt',\n",
        " min_samples_leaf= 1,\n",
        " min_samples_split= 5,\n",
        " n_estimators= 120)\n",
        "\n",
        "rf_for_prediction.fit(x_train, y_train)"
      ],
      "metadata": {
        "colab": {
          "base_uri": "https://localhost:8080/"
        },
        "id": "DrTk8yiK0gDf",
        "outputId": "7dcf67ee-35ea-4b4f-b6ee-6d6c8e803f78"
      },
      "execution_count": 63,
      "outputs": [
        {
          "output_type": "execute_result",
          "data": {
            "text/plain": [
              "RandomForestRegressor(bootstrap=False, max_features='sqrt', min_samples_split=5,\n",
              "                      n_estimators=120)"
            ]
          },
          "metadata": {},
          "execution_count": 63
        }
      ]
    },
    {
      "cell_type": "code",
      "source": [
        "# Save the model\n",
        "import joblib\n",
        "joblib_file = \"UsedCarPricePredictionModel.joblib\"\n",
        "joblib.dump(rf_for_prediction, joblib_file) "
      ],
      "metadata": {
        "colab": {
          "base_uri": "https://localhost:8080/"
        },
        "id": "sbUFauYLwBD9",
        "outputId": "898d4c5b-6261-4675-e808-f88072e564d9"
      },
      "execution_count": 66,
      "outputs": [
        {
          "output_type": "execute_result",
          "data": {
            "text/plain": [
              "['UsedCarPricePredictionModel.joblib']"
            ]
          },
          "metadata": {},
          "execution_count": 66
        }
      ]
    },
    {
      "cell_type": "markdown",
      "source": [
        "### Code"
      ],
      "metadata": {
        "id": "8tF9Eyqs6q62"
      }
    },
    {
      "cell_type": "code",
      "source": [
        "import warnings\n",
        "from termcolor import colored\n",
        "\n",
        "warnings.filterwarnings(\"ignore\")\n",
        "def carSeletion():\n",
        "  arr = []\n",
        "  print(\"Welcome to the Car Price Prediction Model:\")\n",
        "  print(\"\\nPlease select your car's Brand from the available Brands below:\")\n",
        "  for i, j in vals['Brand'].items():\n",
        "    # print(i, j)\n",
        "    print(f'{i} = {j+1}')\n",
        "  arr.append(int(input (\"\\nEnter the number associated with your Brand from above:\"))-1)\n",
        "  \n",
        "\n",
        "  df_col = df_copy[df_copy['Brand'] == arr[0]]\n",
        "  cols = (df_col['model'].unique())\n",
        "  cols.sort()\n",
        "\n",
        "  print(f\"\\nPlease select your car's Model from the available Models below:\")\n",
        "  key_list = list(vals['model'].keys())\n",
        "  val_list = list(vals['model'].values())\n",
        "  for i in cols:\n",
        "    position = val_list.index(i)\n",
        "    print(f'{i} :{key_list[position]}')\n",
        "  arr.append(int(input (\"\\nEnter the number associated with your Model from above:\"))-1)\n",
        "  \n",
        "  arr.append(int(input (\"\\nEnter your car's Year of purchase:\")))\n",
        "\n",
        "  print(\"\\nPlease select your car's Transmission type from the available Transmission types below:\")\n",
        "  for i,j in vals['transmission'].items():\n",
        "    print(f'{i} = {j+1}')\n",
        "  arr.append(int(input (\"\\nEnter the number associated with your car's Transmission type from above:\"))-1)\n",
        "\n",
        "  arr.append(int(input (\"\\nEnter the total number of miles driven: \")))\n",
        "\n",
        "  print(\"\\nPlease select your car's Fuel type from the available Fuel types below:\")\n",
        "  for i,j in vals['fuelType'].items():\n",
        "    print(f'{i} = {j+1}')\n",
        "  arr.append(int(input (\"\\nEnter the number associated with your car's Fuel type from above:\"))-1)\n",
        "\n",
        "  arr.append(int(input (\"\\nEnter the amount of Road Tax paid: \")))\n",
        "\n",
        "  arr.append(int(input (\"\\nEnter your car's average Miles/gallon: \")))\n",
        "\n",
        "  arr.append(int(input (\"\\nEnter your car's Engine Size: \")))\n",
        "\n",
        "  arr += [arr.pop(0)]\n",
        "\n",
        "  price = rf_for_prediction.predict([arr])\n",
        "\n",
        "  # To convert pounds to USD\n",
        "  low_price = (price[0] - 0.1*price[0])*1.36\n",
        "  high_price = (price[0] + 0.1*price[0])*1.36\n",
        "\n",
        "  return ('\\nPrice range of car should be between $ {} and $ {}'.format(int(low_price), int(high_price)))"
      ],
      "metadata": {
        "id": "h_OtYxEAYtAc"
      },
      "execution_count": 67,
      "outputs": []
    },
    {
      "cell_type": "code",
      "source": [
        "print(df_copy['Brand'])"
      ],
      "metadata": {
        "colab": {
          "base_uri": "https://localhost:8080/"
        },
        "id": "BW0MiRnzx9qH",
        "outputId": "1e7744c7-fd90-4d62-f2d1-dd7d7128f205"
      },
      "execution_count": 69,
      "outputs": [
        {
          "output_type": "stream",
          "name": "stdout",
          "text": [
            "396     0\n",
            "441     0\n",
            "489     0\n",
            "490     0\n",
            "491     0\n",
            "       ..\n",
            "6733    5\n",
            "6734    5\n",
            "6735    5\n",
            "6736    5\n",
            "6737    5\n",
            "Name: Brand, Length: 99388, dtype: int64\n"
          ]
        }
      ]
    },
    {
      "cell_type": "markdown",
      "source": [
        "### Output"
      ],
      "metadata": {
        "id": "OU1MQXJw6uTE"
      }
    },
    {
      "cell_type": "code",
      "source": [
        "print(colored(carSeletion(),'red', attrs=['bold']))"
      ],
      "metadata": {
        "colab": {
          "base_uri": "https://localhost:8080/"
        },
        "id": "8d3X9Ny61efS",
        "outputId": "72899242-3641-4234-8ef3-6972100ff605"
      },
      "execution_count": 68,
      "outputs": [
        {
          "output_type": "stream",
          "name": "stdout",
          "text": [
            "Welcome to the Car Price Prediction Model:\n",
            "\n",
            "Please select your car's Brand from the available Brands below:\n",
            "Audi = 1\n",
            "Bmw = 2\n",
            "Ford = 3\n",
            "Mercedes = 4\n",
            "Skoda = 5\n",
            "Toyota = 6\n",
            "Vauxhall = 7\n",
            "Volkswagen = 8\n",
            "\n",
            "Enter the number associated with your Brand from above:1\n",
            "\n",
            "Please select your car's Model from the available Models below:\n",
            "9 : A1\n",
            "10 : A2\n",
            "11 : A3\n",
            "12 : A4\n",
            "13 : A5\n",
            "14 : A6\n",
            "15 : A7\n",
            "16 : A8\n",
            "104 : Q2\n",
            "105 : Q3\n",
            "106 : Q5\n",
            "107 : Q7\n",
            "108 : Q8\n",
            "110 : R8\n",
            "112 : RS3\n",
            "113 : RS4\n",
            "114 : RS5\n",
            "115 : RS6\n",
            "116 : RS7\n",
            "122 : S3\n",
            "123 : S4\n",
            "124 : S5\n",
            "125 : S8\n",
            "128 : SQ5\n",
            "129 : SQ7\n",
            "139 : TT\n",
            "\n",
            "Enter the number associated with your Model from above:9\n",
            "\n",
            "Enter your car's Year of purchase:2015\n",
            "\n",
            "Please select your car's Transmission type from the available Transmission types below:\n",
            "Automatic = 1\n",
            "Manual = 2\n",
            "Other = 3\n",
            "Semi-Auto = 4\n",
            "\n",
            "Enter the number associated with your car's Transmission type from above:1\n",
            "\n",
            "Enter the total number of miles driven: 100\n",
            "\n",
            "Please select your car's Fuel type from the available Fuel types below:\n",
            "Diesel = 1\n",
            "Electric = 2\n",
            "Hybrid = 3\n",
            "Other = 4\n",
            "Petrol = 5\n",
            "\n",
            "Enter the number associated with your car's Fuel type from above:5\n",
            "\n",
            "Enter the amount of Road Tax paid: 100\n",
            "\n",
            "Enter your car's average Miles/gallon: 20\n",
            "\n",
            "Enter your car's Engine Size: 2\n",
            "\u001b[1m\u001b[31m\n",
            "Price range of car should be between $ 33949 and $ 41494\u001b[0m\n"
          ]
        }
      ]
    }
  ]
}